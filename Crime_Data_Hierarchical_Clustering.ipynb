{
 "cells":[
  {
   "cell_type":"code",
   "source":[
    "import pandas as pd\n",
    "import numpy as np\n",
    "import  matplotlib.pyplot as plt\n",
    "import seaborn as sns"
   ],
   "execution_count":1,
   "outputs":[],
   "metadata":{
    "datalore":{
     "node_id":"tpUzqHcQi3OLNsIWHjuk9k",
     "type":"CODE",
     "hide_input_from_viewers":true,
     "hide_output_from_viewers":true
    }
   }
  },
  {
   "cell_type":"code",
   "source":[
    "df = pd.read_csv(r\"\/data\/notebook_files\/crime_data.csv\")\n",
    "df"
   ],
   "execution_count":2,
   "outputs":[
    {
     "data":{
      "text\/html":[
       "<div>\n",
       "<style scoped>\n",
       "    .dataframe tbody tr th:only-of-type {\n",
       "        vertical-align: middle;\n",
       "    }\n",
       "\n",
       "    .dataframe tbody tr th {\n",
       "        vertical-align: top;\n",
       "    }\n",
       "\n",
       "    .dataframe thead th {\n",
       "        text-align: right;\n",
       "    }\n",
       "<\/style>\n",
       "<table border=\"1\" class=\"dataframe\">\n",
       "  <thead>\n",
       "    <tr style=\"text-align: right;\">\n",
       "      <th><\/th>\n",
       "      <th>City<\/th>\n",
       "      <th>Murder<\/th>\n",
       "      <th>Assault<\/th>\n",
       "      <th>UrbanPop<\/th>\n",
       "      <th>Rape<\/th>\n",
       "    <\/tr>\n",
       "  <\/thead>\n",
       "  <tbody>\n",
       "    <tr>\n",
       "      <th>0<\/th>\n",
       "      <td>Alabama<\/td>\n",
       "      <td>13.2<\/td>\n",
       "      <td>236<\/td>\n",
       "      <td>58<\/td>\n",
       "      <td>21.2<\/td>\n",
       "    <\/tr>\n",
       "    <tr>\n",
       "      <th>1<\/th>\n",
       "      <td>Alaska<\/td>\n",
       "      <td>10.0<\/td>\n",
       "      <td>263<\/td>\n",
       "      <td>48<\/td>\n",
       "      <td>44.5<\/td>\n",
       "    <\/tr>\n",
       "    <tr>\n",
       "      <th>2<\/th>\n",
       "      <td>Arizona<\/td>\n",
       "      <td>8.1<\/td>\n",
       "      <td>294<\/td>\n",
       "      <td>80<\/td>\n",
       "      <td>31.0<\/td>\n",
       "    <\/tr>\n",
       "    <tr>\n",
       "      <th>3<\/th>\n",
       "      <td>Arkansas<\/td>\n",
       "      <td>8.8<\/td>\n",
       "      <td>190<\/td>\n",
       "      <td>50<\/td>\n",
       "      <td>19.5<\/td>\n",
       "    <\/tr>\n",
       "    <tr>\n",
       "      <th>4<\/th>\n",
       "      <td>California<\/td>\n",
       "      <td>9.0<\/td>\n",
       "      <td>276<\/td>\n",
       "      <td>91<\/td>\n",
       "      <td>40.6<\/td>\n",
       "    <\/tr>\n",
       "    <tr>\n",
       "      <th>5<\/th>\n",
       "      <td>Colorado<\/td>\n",
       "      <td>7.9<\/td>\n",
       "      <td>204<\/td>\n",
       "      <td>78<\/td>\n",
       "      <td>38.7<\/td>\n",
       "    <\/tr>\n",
       "    <tr>\n",
       "      <th>6<\/th>\n",
       "      <td>Connecticut<\/td>\n",
       "      <td>3.3<\/td>\n",
       "      <td>110<\/td>\n",
       "      <td>77<\/td>\n",
       "      <td>11.1<\/td>\n",
       "    <\/tr>\n",
       "    <tr>\n",
       "      <th>7<\/th>\n",
       "      <td>Delaware<\/td>\n",
       "      <td>5.9<\/td>\n",
       "      <td>238<\/td>\n",
       "      <td>72<\/td>\n",
       "      <td>15.8<\/td>\n",
       "    <\/tr>\n",
       "    <tr>\n",
       "      <th>8<\/th>\n",
       "      <td>Florida<\/td>\n",
       "      <td>15.4<\/td>\n",
       "      <td>335<\/td>\n",
       "      <td>80<\/td>\n",
       "      <td>31.9<\/td>\n",
       "    <\/tr>\n",
       "    <tr>\n",
       "      <th>9<\/th>\n",
       "      <td>Georgia<\/td>\n",
       "      <td>17.4<\/td>\n",
       "      <td>211<\/td>\n",
       "      <td>60<\/td>\n",
       "      <td>25.8<\/td>\n",
       "    <\/tr>\n",
       "    <tr>\n",
       "      <th>10<\/th>\n",
       "      <td>Hawaii<\/td>\n",
       "      <td>5.3<\/td>\n",
       "      <td>46<\/td>\n",
       "      <td>83<\/td>\n",
       "      <td>20.2<\/td>\n",
       "    <\/tr>\n",
       "    <tr>\n",
       "      <th>11<\/th>\n",
       "      <td>Idaho<\/td>\n",
       "      <td>2.6<\/td>\n",
       "      <td>120<\/td>\n",
       "      <td>54<\/td>\n",
       "      <td>14.2<\/td>\n",
       "    <\/tr>\n",
       "    <tr>\n",
       "      <th>12<\/th>\n",
       "      <td>Illinois<\/td>\n",
       "      <td>10.4<\/td>\n",
       "      <td>249<\/td>\n",
       "      <td>83<\/td>\n",
       "      <td>24.0<\/td>\n",
       "    <\/tr>\n",
       "    <tr>\n",
       "      <th>13<\/th>\n",
       "      <td>Indiana<\/td>\n",
       "      <td>7.2<\/td>\n",
       "      <td>113<\/td>\n",
       "      <td>65<\/td>\n",
       "      <td>21.0<\/td>\n",
       "    <\/tr>\n",
       "    <tr>\n",
       "      <th>14<\/th>\n",
       "      <td>Iowa<\/td>\n",
       "      <td>2.2<\/td>\n",
       "      <td>56<\/td>\n",
       "      <td>57<\/td>\n",
       "      <td>11.3<\/td>\n",
       "    <\/tr>\n",
       "    <tr>\n",
       "      <th>15<\/th>\n",
       "      <td>Kansas<\/td>\n",
       "      <td>6.0<\/td>\n",
       "      <td>115<\/td>\n",
       "      <td>66<\/td>\n",
       "      <td>18.0<\/td>\n",
       "    <\/tr>\n",
       "    <tr>\n",
       "      <th>16<\/th>\n",
       "      <td>Kentucky<\/td>\n",
       "      <td>9.7<\/td>\n",
       "      <td>109<\/td>\n",
       "      <td>52<\/td>\n",
       "      <td>16.3<\/td>\n",
       "    <\/tr>\n",
       "    <tr>\n",
       "      <th>17<\/th>\n",
       "      <td>Louisiana<\/td>\n",
       "      <td>15.4<\/td>\n",
       "      <td>249<\/td>\n",
       "      <td>66<\/td>\n",
       "      <td>22.2<\/td>\n",
       "    <\/tr>\n",
       "    <tr>\n",
       "      <th>18<\/th>\n",
       "      <td>Maine<\/td>\n",
       "      <td>2.1<\/td>\n",
       "      <td>83<\/td>\n",
       "      <td>51<\/td>\n",
       "      <td>7.8<\/td>\n",
       "    <\/tr>\n",
       "    <tr>\n",
       "      <th>19<\/th>\n",
       "      <td>Maryland<\/td>\n",
       "      <td>11.3<\/td>\n",
       "      <td>300<\/td>\n",
       "      <td>67<\/td>\n",
       "      <td>27.8<\/td>\n",
       "    <\/tr>\n",
       "    <tr>\n",
       "      <th>20<\/th>\n",
       "      <td>Massachusetts<\/td>\n",
       "      <td>4.4<\/td>\n",
       "      <td>149<\/td>\n",
       "      <td>85<\/td>\n",
       "      <td>16.3<\/td>\n",
       "    <\/tr>\n",
       "    <tr>\n",
       "      <th>21<\/th>\n",
       "      <td>Michigan<\/td>\n",
       "      <td>12.1<\/td>\n",
       "      <td>255<\/td>\n",
       "      <td>74<\/td>\n",
       "      <td>35.1<\/td>\n",
       "    <\/tr>\n",
       "    <tr>\n",
       "      <th>22<\/th>\n",
       "      <td>Minnesota<\/td>\n",
       "      <td>2.7<\/td>\n",
       "      <td>72<\/td>\n",
       "      <td>66<\/td>\n",
       "      <td>14.9<\/td>\n",
       "    <\/tr>\n",
       "    <tr>\n",
       "      <th>23<\/th>\n",
       "      <td>Mississippi<\/td>\n",
       "      <td>16.1<\/td>\n",
       "      <td>259<\/td>\n",
       "      <td>44<\/td>\n",
       "      <td>17.1<\/td>\n",
       "    <\/tr>\n",
       "    <tr>\n",
       "      <th>24<\/th>\n",
       "      <td>Missouri<\/td>\n",
       "      <td>9.0<\/td>\n",
       "      <td>178<\/td>\n",
       "      <td>70<\/td>\n",
       "      <td>28.2<\/td>\n",
       "    <\/tr>\n",
       "    <tr>\n",
       "      <th>25<\/th>\n",
       "      <td>Montana<\/td>\n",
       "      <td>6.0<\/td>\n",
       "      <td>109<\/td>\n",
       "      <td>53<\/td>\n",
       "      <td>16.4<\/td>\n",
       "    <\/tr>\n",
       "    <tr>\n",
       "      <th>26<\/th>\n",
       "      <td>Nebraska<\/td>\n",
       "      <td>4.3<\/td>\n",
       "      <td>102<\/td>\n",
       "      <td>62<\/td>\n",
       "      <td>16.5<\/td>\n",
       "    <\/tr>\n",
       "    <tr>\n",
       "      <th>27<\/th>\n",
       "      <td>Nevada<\/td>\n",
       "      <td>12.2<\/td>\n",
       "      <td>252<\/td>\n",
       "      <td>81<\/td>\n",
       "      <td>46.0<\/td>\n",
       "    <\/tr>\n",
       "    <tr>\n",
       "      <th>28<\/th>\n",
       "      <td>New Hampshire<\/td>\n",
       "      <td>2.1<\/td>\n",
       "      <td>57<\/td>\n",
       "      <td>56<\/td>\n",
       "      <td>9.5<\/td>\n",
       "    <\/tr>\n",
       "    <tr>\n",
       "      <th>29<\/th>\n",
       "      <td>New Jersey<\/td>\n",
       "      <td>7.4<\/td>\n",
       "      <td>159<\/td>\n",
       "      <td>89<\/td>\n",
       "      <td>18.8<\/td>\n",
       "    <\/tr>\n",
       "    <tr>\n",
       "      <th>30<\/th>\n",
       "      <td>New Mexico<\/td>\n",
       "      <td>11.4<\/td>\n",
       "      <td>285<\/td>\n",
       "      <td>70<\/td>\n",
       "      <td>32.1<\/td>\n",
       "    <\/tr>\n",
       "    <tr>\n",
       "      <th>31<\/th>\n",
       "      <td>New York<\/td>\n",
       "      <td>11.1<\/td>\n",
       "      <td>254<\/td>\n",
       "      <td>86<\/td>\n",
       "      <td>26.1<\/td>\n",
       "    <\/tr>\n",
       "    <tr>\n",
       "      <th>32<\/th>\n",
       "      <td>North Carolina<\/td>\n",
       "      <td>13.0<\/td>\n",
       "      <td>337<\/td>\n",
       "      <td>45<\/td>\n",
       "      <td>16.1<\/td>\n",
       "    <\/tr>\n",
       "    <tr>\n",
       "      <th>33<\/th>\n",
       "      <td>North Dakota<\/td>\n",
       "      <td>0.8<\/td>\n",
       "      <td>45<\/td>\n",
       "      <td>44<\/td>\n",
       "      <td>7.3<\/td>\n",
       "    <\/tr>\n",
       "    <tr>\n",
       "      <th>34<\/th>\n",
       "      <td>Ohio<\/td>\n",
       "      <td>7.3<\/td>\n",
       "      <td>120<\/td>\n",
       "      <td>75<\/td>\n",
       "      <td>21.4<\/td>\n",
       "    <\/tr>\n",
       "    <tr>\n",
       "      <th>35<\/th>\n",
       "      <td>Oklahoma<\/td>\n",
       "      <td>6.6<\/td>\n",
       "      <td>151<\/td>\n",
       "      <td>68<\/td>\n",
       "      <td>20.0<\/td>\n",
       "    <\/tr>\n",
       "    <tr>\n",
       "      <th>36<\/th>\n",
       "      <td>Oregon<\/td>\n",
       "      <td>4.9<\/td>\n",
       "      <td>159<\/td>\n",
       "      <td>67<\/td>\n",
       "      <td>29.3<\/td>\n",
       "    <\/tr>\n",
       "    <tr>\n",
       "      <th>37<\/th>\n",
       "      <td>Pennsylvania<\/td>\n",
       "      <td>6.3<\/td>\n",
       "      <td>106<\/td>\n",
       "      <td>72<\/td>\n",
       "      <td>14.9<\/td>\n",
       "    <\/tr>\n",
       "    <tr>\n",
       "      <th>38<\/th>\n",
       "      <td>Rhode Island<\/td>\n",
       "      <td>3.4<\/td>\n",
       "      <td>174<\/td>\n",
       "      <td>87<\/td>\n",
       "      <td>8.3<\/td>\n",
       "    <\/tr>\n",
       "    <tr>\n",
       "      <th>39<\/th>\n",
       "      <td>South Carolina<\/td>\n",
       "      <td>14.4<\/td>\n",
       "      <td>279<\/td>\n",
       "      <td>48<\/td>\n",
       "      <td>22.5<\/td>\n",
       "    <\/tr>\n",
       "    <tr>\n",
       "      <th>40<\/th>\n",
       "      <td>South Dakota<\/td>\n",
       "      <td>3.8<\/td>\n",
       "      <td>86<\/td>\n",
       "      <td>45<\/td>\n",
       "      <td>12.8<\/td>\n",
       "    <\/tr>\n",
       "    <tr>\n",
       "      <th>41<\/th>\n",
       "      <td>Tennessee<\/td>\n",
       "      <td>13.2<\/td>\n",
       "      <td>188<\/td>\n",
       "      <td>59<\/td>\n",
       "      <td>26.9<\/td>\n",
       "    <\/tr>\n",
       "    <tr>\n",
       "      <th>42<\/th>\n",
       "      <td>Texas<\/td>\n",
       "      <td>12.7<\/td>\n",
       "      <td>201<\/td>\n",
       "      <td>80<\/td>\n",
       "      <td>25.5<\/td>\n",
       "    <\/tr>\n",
       "    <tr>\n",
       "      <th>43<\/th>\n",
       "      <td>Utah<\/td>\n",
       "      <td>3.2<\/td>\n",
       "      <td>120<\/td>\n",
       "      <td>80<\/td>\n",
       "      <td>22.9<\/td>\n",
       "    <\/tr>\n",
       "    <tr>\n",
       "      <th>44<\/th>\n",
       "      <td>Vermont<\/td>\n",
       "      <td>2.2<\/td>\n",
       "      <td>48<\/td>\n",
       "      <td>32<\/td>\n",
       "      <td>11.2<\/td>\n",
       "    <\/tr>\n",
       "    <tr>\n",
       "      <th>45<\/th>\n",
       "      <td>Virginia<\/td>\n",
       "      <td>8.5<\/td>\n",
       "      <td>156<\/td>\n",
       "      <td>63<\/td>\n",
       "      <td>20.7<\/td>\n",
       "    <\/tr>\n",
       "    <tr>\n",
       "      <th>46<\/th>\n",
       "      <td>Washington<\/td>\n",
       "      <td>4.0<\/td>\n",
       "      <td>145<\/td>\n",
       "      <td>73<\/td>\n",
       "      <td>26.2<\/td>\n",
       "    <\/tr>\n",
       "    <tr>\n",
       "      <th>47<\/th>\n",
       "      <td>West Virginia<\/td>\n",
       "      <td>5.7<\/td>\n",
       "      <td>81<\/td>\n",
       "      <td>39<\/td>\n",
       "      <td>9.3<\/td>\n",
       "    <\/tr>\n",
       "    <tr>\n",
       "      <th>48<\/th>\n",
       "      <td>Wisconsin<\/td>\n",
       "      <td>2.6<\/td>\n",
       "      <td>53<\/td>\n",
       "      <td>66<\/td>\n",
       "      <td>10.8<\/td>\n",
       "    <\/tr>\n",
       "    <tr>\n",
       "      <th>49<\/th>\n",
       "      <td>Wyoming<\/td>\n",
       "      <td>6.8<\/td>\n",
       "      <td>161<\/td>\n",
       "      <td>60<\/td>\n",
       "      <td>15.6<\/td>\n",
       "    <\/tr>\n",
       "  <\/tbody>\n",
       "<\/table>\n",
       "<\/div>"
      ]
     },
     "metadata":{},
     "output_type":"display_data"
    }
   ],
   "metadata":{
    "datalore":{
     "node_id":"XnAgXS9PbWDEieFRuzctkW",
     "type":"CODE",
     "hide_input_from_viewers":true,
     "hide_output_from_viewers":true
    }
   }
  },
  {
   "cell_type":"code",
   "source":[
    "df.head(10)"
   ],
   "execution_count":3,
   "outputs":[
    {
     "data":{
      "text\/html":[
       "<div>\n",
       "<style scoped>\n",
       "    .dataframe tbody tr th:only-of-type {\n",
       "        vertical-align: middle;\n",
       "    }\n",
       "\n",
       "    .dataframe tbody tr th {\n",
       "        vertical-align: top;\n",
       "    }\n",
       "\n",
       "    .dataframe thead th {\n",
       "        text-align: right;\n",
       "    }\n",
       "<\/style>\n",
       "<table border=\"1\" class=\"dataframe\">\n",
       "  <thead>\n",
       "    <tr style=\"text-align: right;\">\n",
       "      <th><\/th>\n",
       "      <th>City<\/th>\n",
       "      <th>Murder<\/th>\n",
       "      <th>Assault<\/th>\n",
       "      <th>UrbanPop<\/th>\n",
       "      <th>Rape<\/th>\n",
       "    <\/tr>\n",
       "  <\/thead>\n",
       "  <tbody>\n",
       "    <tr>\n",
       "      <th>0<\/th>\n",
       "      <td>Alabama<\/td>\n",
       "      <td>13.2<\/td>\n",
       "      <td>236<\/td>\n",
       "      <td>58<\/td>\n",
       "      <td>21.2<\/td>\n",
       "    <\/tr>\n",
       "    <tr>\n",
       "      <th>1<\/th>\n",
       "      <td>Alaska<\/td>\n",
       "      <td>10.0<\/td>\n",
       "      <td>263<\/td>\n",
       "      <td>48<\/td>\n",
       "      <td>44.5<\/td>\n",
       "    <\/tr>\n",
       "    <tr>\n",
       "      <th>2<\/th>\n",
       "      <td>Arizona<\/td>\n",
       "      <td>8.1<\/td>\n",
       "      <td>294<\/td>\n",
       "      <td>80<\/td>\n",
       "      <td>31.0<\/td>\n",
       "    <\/tr>\n",
       "    <tr>\n",
       "      <th>3<\/th>\n",
       "      <td>Arkansas<\/td>\n",
       "      <td>8.8<\/td>\n",
       "      <td>190<\/td>\n",
       "      <td>50<\/td>\n",
       "      <td>19.5<\/td>\n",
       "    <\/tr>\n",
       "    <tr>\n",
       "      <th>4<\/th>\n",
       "      <td>California<\/td>\n",
       "      <td>9.0<\/td>\n",
       "      <td>276<\/td>\n",
       "      <td>91<\/td>\n",
       "      <td>40.6<\/td>\n",
       "    <\/tr>\n",
       "    <tr>\n",
       "      <th>5<\/th>\n",
       "      <td>Colorado<\/td>\n",
       "      <td>7.9<\/td>\n",
       "      <td>204<\/td>\n",
       "      <td>78<\/td>\n",
       "      <td>38.7<\/td>\n",
       "    <\/tr>\n",
       "    <tr>\n",
       "      <th>6<\/th>\n",
       "      <td>Connecticut<\/td>\n",
       "      <td>3.3<\/td>\n",
       "      <td>110<\/td>\n",
       "      <td>77<\/td>\n",
       "      <td>11.1<\/td>\n",
       "    <\/tr>\n",
       "    <tr>\n",
       "      <th>7<\/th>\n",
       "      <td>Delaware<\/td>\n",
       "      <td>5.9<\/td>\n",
       "      <td>238<\/td>\n",
       "      <td>72<\/td>\n",
       "      <td>15.8<\/td>\n",
       "    <\/tr>\n",
       "    <tr>\n",
       "      <th>8<\/th>\n",
       "      <td>Florida<\/td>\n",
       "      <td>15.4<\/td>\n",
       "      <td>335<\/td>\n",
       "      <td>80<\/td>\n",
       "      <td>31.9<\/td>\n",
       "    <\/tr>\n",
       "    <tr>\n",
       "      <th>9<\/th>\n",
       "      <td>Georgia<\/td>\n",
       "      <td>17.4<\/td>\n",
       "      <td>211<\/td>\n",
       "      <td>60<\/td>\n",
       "      <td>25.8<\/td>\n",
       "    <\/tr>\n",
       "  <\/tbody>\n",
       "<\/table>\n",
       "<\/div>"
      ]
     },
     "metadata":{},
     "output_type":"display_data"
    }
   ],
   "metadata":{
    "datalore":{
     "node_id":"GbKEfObrkXAQU5byZIk7be",
     "type":"CODE",
     "hide_input_from_viewers":true,
     "hide_output_from_viewers":true
    }
   }
  },
  {
   "cell_type":"code",
   "source":[
    "df.shape"
   ],
   "execution_count":5,
   "outputs":[
    {
     "data":{
      "text\/plain":[
       "(50, 5)"
      ]
     },
     "metadata":{},
     "output_type":"display_data"
    }
   ],
   "metadata":{
    "datalore":{
     "node_id":"zJFeDZY6704Ap9rhvczS2K",
     "type":"CODE",
     "hide_input_from_viewers":true,
     "hide_output_from_viewers":true
    }
   }
  },
  {
   "cell_type":"code",
   "source":[
    "df.info()"
   ],
   "execution_count":6,
   "outputs":[
    {
     "name":"stdout",
     "text":[
      "<class 'pandas.core.frame.DataFrame'>\n",
      "RangeIndex: 50 entries, 0 to 49\n",
      "Data columns (total 5 columns):\n",
      " #   Column    Non-Null Count  Dtype  \n",
      "---  ------    --------------  -----  \n",
      " 0   City      50 non-null     object \n",
      " 1   Murder    50 non-null     float64\n",
      " 2   Assault   50 non-null     int64  \n",
      " 3   UrbanPop  50 non-null     int64  \n",
      " 4   Rape      50 non-null     float64\n",
      "dtypes: float64(2), int64(2), object(1)\n",
      "memory usage: 2.1+ KB\n"
     ],
     "output_type":"stream"
    }
   ],
   "metadata":{
    "datalore":{
     "node_id":"oY2fLjoJ9OywTVdP5B6THb",
     "type":"CODE",
     "hide_input_from_viewers":true,
     "hide_output_from_viewers":true
    }
   }
  },
  {
   "cell_type":"code",
   "source":[
    "df.describe()"
   ],
   "execution_count":7,
   "outputs":[
    {
     "data":{
      "text\/html":[
       "<div>\n",
       "<style scoped>\n",
       "    .dataframe tbody tr th:only-of-type {\n",
       "        vertical-align: middle;\n",
       "    }\n",
       "\n",
       "    .dataframe tbody tr th {\n",
       "        vertical-align: top;\n",
       "    }\n",
       "\n",
       "    .dataframe thead th {\n",
       "        text-align: right;\n",
       "    }\n",
       "<\/style>\n",
       "<table border=\"1\" class=\"dataframe\">\n",
       "  <thead>\n",
       "    <tr style=\"text-align: right;\">\n",
       "      <th><\/th>\n",
       "      <th>Murder<\/th>\n",
       "      <th>Assault<\/th>\n",
       "      <th>UrbanPop<\/th>\n",
       "      <th>Rape<\/th>\n",
       "    <\/tr>\n",
       "  <\/thead>\n",
       "  <tbody>\n",
       "    <tr>\n",
       "      <th>count<\/th>\n",
       "      <td>50.00000<\/td>\n",
       "      <td>50.000000<\/td>\n",
       "      <td>50.000000<\/td>\n",
       "      <td>50.000000<\/td>\n",
       "    <\/tr>\n",
       "    <tr>\n",
       "      <th>mean<\/th>\n",
       "      <td>7.78800<\/td>\n",
       "      <td>170.760000<\/td>\n",
       "      <td>65.540000<\/td>\n",
       "      <td>21.232000<\/td>\n",
       "    <\/tr>\n",
       "    <tr>\n",
       "      <th>std<\/th>\n",
       "      <td>4.35551<\/td>\n",
       "      <td>83.337661<\/td>\n",
       "      <td>14.474763<\/td>\n",
       "      <td>9.366385<\/td>\n",
       "    <\/tr>\n",
       "    <tr>\n",
       "      <th>min<\/th>\n",
       "      <td>0.80000<\/td>\n",
       "      <td>45.000000<\/td>\n",
       "      <td>32.000000<\/td>\n",
       "      <td>7.300000<\/td>\n",
       "    <\/tr>\n",
       "    <tr>\n",
       "      <th>25%<\/th>\n",
       "      <td>4.07500<\/td>\n",
       "      <td>109.000000<\/td>\n",
       "      <td>54.500000<\/td>\n",
       "      <td>15.075000<\/td>\n",
       "    <\/tr>\n",
       "    <tr>\n",
       "      <th>50%<\/th>\n",
       "      <td>7.25000<\/td>\n",
       "      <td>159.000000<\/td>\n",
       "      <td>66.000000<\/td>\n",
       "      <td>20.100000<\/td>\n",
       "    <\/tr>\n",
       "    <tr>\n",
       "      <th>75%<\/th>\n",
       "      <td>11.25000<\/td>\n",
       "      <td>249.000000<\/td>\n",
       "      <td>77.750000<\/td>\n",
       "      <td>26.175000<\/td>\n",
       "    <\/tr>\n",
       "    <tr>\n",
       "      <th>max<\/th>\n",
       "      <td>17.40000<\/td>\n",
       "      <td>337.000000<\/td>\n",
       "      <td>91.000000<\/td>\n",
       "      <td>46.000000<\/td>\n",
       "    <\/tr>\n",
       "  <\/tbody>\n",
       "<\/table>\n",
       "<\/div>"
      ]
     },
     "metadata":{},
     "output_type":"display_data"
    }
   ],
   "metadata":{
    "datalore":{
     "node_id":"AgPErnyb0yv6xPSU9c0EJW",
     "type":"CODE",
     "hide_input_from_viewers":true,
     "hide_output_from_viewers":true
    }
   }
  },
  {
   "cell_type":"code",
   "source":[
    "duplicates = df.duplicated()\n",
    "sum(duplicates)"
   ],
   "execution_count":8,
   "outputs":[
    {
     "data":{
      "text\/plain":[
       "0"
      ]
     },
     "metadata":{},
     "output_type":"display_data"
    }
   ],
   "metadata":{
    "datalore":{
     "node_id":"qckuGHv22EuL9FJ73gSCk4",
     "type":"CODE",
     "hide_input_from_viewers":true,
     "hide_output_from_viewers":true
    }
   }
  },
  {
   "cell_type":"code",
   "source":[
    "#Univariate Analysis\n",
    "#Histogram\n",
    "plt.xlabel(\"Assault\")\n",
    "plt.ylabel(\"Frequency\")\n",
    "plt.title(\"HISTOGRAM\")\n",
    "plt.hist(df.Assault)"
   ],
   "execution_count":10,
   "outputs":[
    {
     "data":{
      "text\/plain":[
       "(array([7., 4., 9., 7., 4., 3., 4., 6., 4., 2.]),\n",
       " array([ 45. ,  74.2, 103.4, 132.6, 161.8, 191. , 220.2, 249.4, 278.6,\n",
       "        307.8, 337. ]),\n",
       " <BarContainer object of 10 artists>)"
      ]
     },
     "metadata":{},
     "output_type":"display_data"
    },
    {
     "data":{
      "image\/png":"[encoded data removed]"
     },
     "metadata":{
      "image\/png":{}
     },
     "output_type":"display_data"
    }
   ],
   "metadata":{
    "datalore":{
     "node_id":"FdSCSHIuIif78zgiBO7l8C",
     "type":"CODE",
     "hide_input_from_viewers":true,
     "hide_output_from_viewers":true
    }
   }
  },
  {
   "cell_type":"code",
   "source":[
    "#BOXPLOT\n",
    "fig, ax = plt.subplots()\n",
    "ax.boxplot(df.iloc[:,2:])\n",
    "plt.show()"
   ],
   "execution_count":21,
   "outputs":[
    {
     "data":{
      "image\/png":"[encoded data removed]"
     },
     "metadata":{
      "image\/png":{}
     },
     "output_type":"display_data"
    }
   ],
   "metadata":{
    "datalore":{
     "node_id":"P0kKWkGjoQGSsnq6JCId13",
     "type":"CODE",
     "hide_input_from_viewers":true,
     "hide_output_from_viewers":true
    }
   }
  },
  {
   "cell_type":"code",
   "source":[
    "# Function to apply IQR method\n",
    "def treat_outliers_iqr(df):\n",
    "    for column in df.select_dtypes(include=[np.number]).columns:\n",
    "        Q1 = df[column].quantile(0.25)\n",
    "        Q3 = df[column].quantile(0.75)\n",
    "        IQR = Q3 - Q1\n",
    "        lower_bound = Q1 - 1.5 * IQR\n",
    "        upper_bound = Q3 + 1.5 * IQR\n",
    "        # Replace outliers with NaN\n",
    "        df[column] = np.where((df['Rape'] < lower_bound) | (df[] > upper_bound), np.nan, df[column])\n",
    "    return df\n",
    "\n",
    "\n",
    "\n",
    "# Apply the IQR method\n",
    "crime_df_iqr = treat_outliers_iqr(df.copy())\n",
    "\n",
    "# Save the treated datasets\n",
    "crime_df_iqr.to_csv('crime_data.xlsx', index=False)\n",
    "crime_df_iqr"
   ],
   "execution_count":23,
   "outputs":[
    {
     "data":{
      "text\/html":[
       "<div>\n",
       "<style scoped>\n",
       "    .dataframe tbody tr th:only-of-type {\n",
       "        vertical-align: middle;\n",
       "    }\n",
       "\n",
       "    .dataframe tbody tr th {\n",
       "        vertical-align: top;\n",
       "    }\n",
       "\n",
       "    .dataframe thead th {\n",
       "        text-align: right;\n",
       "    }\n",
       "<\/style>\n",
       "<table border=\"1\" class=\"dataframe\">\n",
       "  <thead>\n",
       "    <tr style=\"text-align: right;\">\n",
       "      <th><\/th>\n",
       "      <th>City<\/th>\n",
       "      <th>Murder<\/th>\n",
       "      <th>Assault<\/th>\n",
       "      <th>UrbanPop<\/th>\n",
       "      <th>Rape<\/th>\n",
       "    <\/tr>\n",
       "  <\/thead>\n",
       "  <tbody>\n",
       "    <tr>\n",
       "      <th>0<\/th>\n",
       "      <td>Alabama<\/td>\n",
       "      <td>13.2<\/td>\n",
       "      <td>236.0<\/td>\n",
       "      <td>58.0<\/td>\n",
       "      <td>21.2<\/td>\n",
       "    <\/tr>\n",
       "    <tr>\n",
       "      <th>1<\/th>\n",
       "      <td>Alaska<\/td>\n",
       "      <td>10.0<\/td>\n",
       "      <td>263.0<\/td>\n",
       "      <td>48.0<\/td>\n",
       "      <td>NaN<\/td>\n",
       "    <\/tr>\n",
       "    <tr>\n",
       "      <th>2<\/th>\n",
       "      <td>Arizona<\/td>\n",
       "      <td>8.1<\/td>\n",
       "      <td>294.0<\/td>\n",
       "      <td>80.0<\/td>\n",
       "      <td>31.0<\/td>\n",
       "    <\/tr>\n",
       "    <tr>\n",
       "      <th>3<\/th>\n",
       "      <td>Arkansas<\/td>\n",
       "      <td>8.8<\/td>\n",
       "      <td>190.0<\/td>\n",
       "      <td>50.0<\/td>\n",
       "      <td>19.5<\/td>\n",
       "    <\/tr>\n",
       "    <tr>\n",
       "      <th>4<\/th>\n",
       "      <td>California<\/td>\n",
       "      <td>9.0<\/td>\n",
       "      <td>276.0<\/td>\n",
       "      <td>91.0<\/td>\n",
       "      <td>40.6<\/td>\n",
       "    <\/tr>\n",
       "    <tr>\n",
       "      <th>5<\/th>\n",
       "      <td>Colorado<\/td>\n",
       "      <td>7.9<\/td>\n",
       "      <td>204.0<\/td>\n",
       "      <td>78.0<\/td>\n",
       "      <td>38.7<\/td>\n",
       "    <\/tr>\n",
       "    <tr>\n",
       "      <th>6<\/th>\n",
       "      <td>Connecticut<\/td>\n",
       "      <td>3.3<\/td>\n",
       "      <td>110.0<\/td>\n",
       "      <td>77.0<\/td>\n",
       "      <td>11.1<\/td>\n",
       "    <\/tr>\n",
       "    <tr>\n",
       "      <th>7<\/th>\n",
       "      <td>Delaware<\/td>\n",
       "      <td>5.9<\/td>\n",
       "      <td>238.0<\/td>\n",
       "      <td>72.0<\/td>\n",
       "      <td>15.8<\/td>\n",
       "    <\/tr>\n",
       "    <tr>\n",
       "      <th>8<\/th>\n",
       "      <td>Florida<\/td>\n",
       "      <td>15.4<\/td>\n",
       "      <td>335.0<\/td>\n",
       "      <td>80.0<\/td>\n",
       "      <td>31.9<\/td>\n",
       "    <\/tr>\n",
       "    <tr>\n",
       "      <th>9<\/th>\n",
       "      <td>Georgia<\/td>\n",
       "      <td>17.4<\/td>\n",
       "      <td>211.0<\/td>\n",
       "      <td>60.0<\/td>\n",
       "      <td>25.8<\/td>\n",
       "    <\/tr>\n",
       "    <tr>\n",
       "      <th>10<\/th>\n",
       "      <td>Hawaii<\/td>\n",
       "      <td>5.3<\/td>\n",
       "      <td>46.0<\/td>\n",
       "      <td>83.0<\/td>\n",
       "      <td>20.2<\/td>\n",
       "    <\/tr>\n",
       "    <tr>\n",
       "      <th>11<\/th>\n",
       "      <td>Idaho<\/td>\n",
       "      <td>2.6<\/td>\n",
       "      <td>120.0<\/td>\n",
       "      <td>54.0<\/td>\n",
       "      <td>14.2<\/td>\n",
       "    <\/tr>\n",
       "    <tr>\n",
       "      <th>12<\/th>\n",
       "      <td>Illinois<\/td>\n",
       "      <td>10.4<\/td>\n",
       "      <td>249.0<\/td>\n",
       "      <td>83.0<\/td>\n",
       "      <td>24.0<\/td>\n",
       "    <\/tr>\n",
       "    <tr>\n",
       "      <th>13<\/th>\n",
       "      <td>Indiana<\/td>\n",
       "      <td>7.2<\/td>\n",
       "      <td>113.0<\/td>\n",
       "      <td>65.0<\/td>\n",
       "      <td>21.0<\/td>\n",
       "    <\/tr>\n",
       "    <tr>\n",
       "      <th>14<\/th>\n",
       "      <td>Iowa<\/td>\n",
       "      <td>2.2<\/td>\n",
       "      <td>56.0<\/td>\n",
       "      <td>57.0<\/td>\n",
       "      <td>11.3<\/td>\n",
       "    <\/tr>\n",
       "    <tr>\n",
       "      <th>15<\/th>\n",
       "      <td>Kansas<\/td>\n",
       "      <td>6.0<\/td>\n",
       "      <td>115.0<\/td>\n",
       "      <td>66.0<\/td>\n",
       "      <td>18.0<\/td>\n",
       "    <\/tr>\n",
       "    <tr>\n",
       "      <th>16<\/th>\n",
       "      <td>Kentucky<\/td>\n",
       "      <td>9.7<\/td>\n",
       "      <td>109.0<\/td>\n",
       "      <td>52.0<\/td>\n",
       "      <td>16.3<\/td>\n",
       "    <\/tr>\n",
       "    <tr>\n",
       "      <th>17<\/th>\n",
       "      <td>Louisiana<\/td>\n",
       "      <td>15.4<\/td>\n",
       "      <td>249.0<\/td>\n",
       "      <td>66.0<\/td>\n",
       "      <td>22.2<\/td>\n",
       "    <\/tr>\n",
       "    <tr>\n",
       "      <th>18<\/th>\n",
       "      <td>Maine<\/td>\n",
       "      <td>2.1<\/td>\n",
       "      <td>83.0<\/td>\n",
       "      <td>51.0<\/td>\n",
       "      <td>7.8<\/td>\n",
       "    <\/tr>\n",
       "    <tr>\n",
       "      <th>19<\/th>\n",
       "      <td>Maryland<\/td>\n",
       "      <td>11.3<\/td>\n",
       "      <td>300.0<\/td>\n",
       "      <td>67.0<\/td>\n",
       "      <td>27.8<\/td>\n",
       "    <\/tr>\n",
       "    <tr>\n",
       "      <th>20<\/th>\n",
       "      <td>Massachusetts<\/td>\n",
       "      <td>4.4<\/td>\n",
       "      <td>149.0<\/td>\n",
       "      <td>85.0<\/td>\n",
       "      <td>16.3<\/td>\n",
       "    <\/tr>\n",
       "    <tr>\n",
       "      <th>21<\/th>\n",
       "      <td>Michigan<\/td>\n",
       "      <td>12.1<\/td>\n",
       "      <td>255.0<\/td>\n",
       "      <td>74.0<\/td>\n",
       "      <td>35.1<\/td>\n",
       "    <\/tr>\n",
       "    <tr>\n",
       "      <th>22<\/th>\n",
       "      <td>Minnesota<\/td>\n",
       "      <td>2.7<\/td>\n",
       "      <td>72.0<\/td>\n",
       "      <td>66.0<\/td>\n",
       "      <td>14.9<\/td>\n",
       "    <\/tr>\n",
       "    <tr>\n",
       "      <th>23<\/th>\n",
       "      <td>Mississippi<\/td>\n",
       "      <td>16.1<\/td>\n",
       "      <td>259.0<\/td>\n",
       "      <td>44.0<\/td>\n",
       "      <td>17.1<\/td>\n",
       "    <\/tr>\n",
       "    <tr>\n",
       "      <th>24<\/th>\n",
       "      <td>Missouri<\/td>\n",
       "      <td>9.0<\/td>\n",
       "      <td>178.0<\/td>\n",
       "      <td>70.0<\/td>\n",
       "      <td>28.2<\/td>\n",
       "    <\/tr>\n",
       "    <tr>\n",
       "      <th>25<\/th>\n",
       "      <td>Montana<\/td>\n",
       "      <td>6.0<\/td>\n",
       "      <td>109.0<\/td>\n",
       "      <td>53.0<\/td>\n",
       "      <td>16.4<\/td>\n",
       "    <\/tr>\n",
       "    <tr>\n",
       "      <th>26<\/th>\n",
       "      <td>Nebraska<\/td>\n",
       "      <td>4.3<\/td>\n",
       "      <td>102.0<\/td>\n",
       "      <td>62.0<\/td>\n",
       "      <td>16.5<\/td>\n",
       "    <\/tr>\n",
       "    <tr>\n",
       "      <th>27<\/th>\n",
       "      <td>Nevada<\/td>\n",
       "      <td>12.2<\/td>\n",
       "      <td>252.0<\/td>\n",
       "      <td>81.0<\/td>\n",
       "      <td>NaN<\/td>\n",
       "    <\/tr>\n",
       "    <tr>\n",
       "      <th>28<\/th>\n",
       "      <td>New Hampshire<\/td>\n",
       "      <td>2.1<\/td>\n",
       "      <td>57.0<\/td>\n",
       "      <td>56.0<\/td>\n",
       "      <td>9.5<\/td>\n",
       "    <\/tr>\n",
       "    <tr>\n",
       "      <th>29<\/th>\n",
       "      <td>New Jersey<\/td>\n",
       "      <td>7.4<\/td>\n",
       "      <td>159.0<\/td>\n",
       "      <td>89.0<\/td>\n",
       "      <td>18.8<\/td>\n",
       "    <\/tr>\n",
       "    <tr>\n",
       "      <th>30<\/th>\n",
       "      <td>New Mexico<\/td>\n",
       "      <td>11.4<\/td>\n",
       "      <td>285.0<\/td>\n",
       "      <td>70.0<\/td>\n",
       "      <td>32.1<\/td>\n",
       "    <\/tr>\n",
       "    <tr>\n",
       "      <th>31<\/th>\n",
       "      <td>New York<\/td>\n",
       "      <td>11.1<\/td>\n",
       "      <td>254.0<\/td>\n",
       "      <td>86.0<\/td>\n",
       "      <td>26.1<\/td>\n",
       "    <\/tr>\n",
       "    <tr>\n",
       "      <th>32<\/th>\n",
       "      <td>North Carolina<\/td>\n",
       "      <td>13.0<\/td>\n",
       "      <td>337.0<\/td>\n",
       "      <td>45.0<\/td>\n",
       "      <td>16.1<\/td>\n",
       "    <\/tr>\n",
       "    <tr>\n",
       "      <th>33<\/th>\n",
       "      <td>North Dakota<\/td>\n",
       "      <td>0.8<\/td>\n",
       "      <td>45.0<\/td>\n",
       "      <td>44.0<\/td>\n",
       "      <td>7.3<\/td>\n",
       "    <\/tr>\n",
       "    <tr>\n",
       "      <th>34<\/th>\n",
       "      <td>Ohio<\/td>\n",
       "      <td>7.3<\/td>\n",
       "      <td>120.0<\/td>\n",
       "      <td>75.0<\/td>\n",
       "      <td>21.4<\/td>\n",
       "    <\/tr>\n",
       "    <tr>\n",
       "      <th>35<\/th>\n",
       "      <td>Oklahoma<\/td>\n",
       "      <td>6.6<\/td>\n",
       "      <td>151.0<\/td>\n",
       "      <td>68.0<\/td>\n",
       "      <td>20.0<\/td>\n",
       "    <\/tr>\n",
       "    <tr>\n",
       "      <th>36<\/th>\n",
       "      <td>Oregon<\/td>\n",
       "      <td>4.9<\/td>\n",
       "      <td>159.0<\/td>\n",
       "      <td>67.0<\/td>\n",
       "      <td>29.3<\/td>\n",
       "    <\/tr>\n",
       "    <tr>\n",
       "      <th>37<\/th>\n",
       "      <td>Pennsylvania<\/td>\n",
       "      <td>6.3<\/td>\n",
       "      <td>106.0<\/td>\n",
       "      <td>72.0<\/td>\n",
       "      <td>14.9<\/td>\n",
       "    <\/tr>\n",
       "    <tr>\n",
       "      <th>38<\/th>\n",
       "      <td>Rhode Island<\/td>\n",
       "      <td>3.4<\/td>\n",
       "      <td>174.0<\/td>\n",
       "      <td>87.0<\/td>\n",
       "      <td>8.3<\/td>\n",
       "    <\/tr>\n",
       "    <tr>\n",
       "      <th>39<\/th>\n",
       "      <td>South Carolina<\/td>\n",
       "      <td>14.4<\/td>\n",
       "      <td>279.0<\/td>\n",
       "      <td>48.0<\/td>\n",
       "      <td>22.5<\/td>\n",
       "    <\/tr>\n",
       "    <tr>\n",
       "      <th>40<\/th>\n",
       "      <td>South Dakota<\/td>\n",
       "      <td>3.8<\/td>\n",
       "      <td>86.0<\/td>\n",
       "      <td>45.0<\/td>\n",
       "      <td>12.8<\/td>\n",
       "    <\/tr>\n",
       "    <tr>\n",
       "      <th>41<\/th>\n",
       "      <td>Tennessee<\/td>\n",
       "      <td>13.2<\/td>\n",
       "      <td>188.0<\/td>\n",
       "      <td>59.0<\/td>\n",
       "      <td>26.9<\/td>\n",
       "    <\/tr>\n",
       "    <tr>\n",
       "      <th>42<\/th>\n",
       "      <td>Texas<\/td>\n",
       "      <td>12.7<\/td>\n",
       "      <td>201.0<\/td>\n",
       "      <td>80.0<\/td>\n",
       "      <td>25.5<\/td>\n",
       "    <\/tr>\n",
       "    <tr>\n",
       "      <th>43<\/th>\n",
       "      <td>Utah<\/td>\n",
       "      <td>3.2<\/td>\n",
       "      <td>120.0<\/td>\n",
       "      <td>80.0<\/td>\n",
       "      <td>22.9<\/td>\n",
       "    <\/tr>\n",
       "    <tr>\n",
       "      <th>44<\/th>\n",
       "      <td>Vermont<\/td>\n",
       "      <td>2.2<\/td>\n",
       "      <td>48.0<\/td>\n",
       "      <td>32.0<\/td>\n",
       "      <td>11.2<\/td>\n",
       "    <\/tr>\n",
       "    <tr>\n",
       "      <th>45<\/th>\n",
       "      <td>Virginia<\/td>\n",
       "      <td>8.5<\/td>\n",
       "      <td>156.0<\/td>\n",
       "      <td>63.0<\/td>\n",
       "      <td>20.7<\/td>\n",
       "    <\/tr>\n",
       "    <tr>\n",
       "      <th>46<\/th>\n",
       "      <td>Washington<\/td>\n",
       "      <td>4.0<\/td>\n",
       "      <td>145.0<\/td>\n",
       "      <td>73.0<\/td>\n",
       "      <td>26.2<\/td>\n",
       "    <\/tr>\n",
       "    <tr>\n",
       "      <th>47<\/th>\n",
       "      <td>West Virginia<\/td>\n",
       "      <td>5.7<\/td>\n",
       "      <td>81.0<\/td>\n",
       "      <td>39.0<\/td>\n",
       "      <td>9.3<\/td>\n",
       "    <\/tr>\n",
       "    <tr>\n",
       "      <th>48<\/th>\n",
       "      <td>Wisconsin<\/td>\n",
       "      <td>2.6<\/td>\n",
       "      <td>53.0<\/td>\n",
       "      <td>66.0<\/td>\n",
       "      <td>10.8<\/td>\n",
       "    <\/tr>\n",
       "    <tr>\n",
       "      <th>49<\/th>\n",
       "      <td>Wyoming<\/td>\n",
       "      <td>6.8<\/td>\n",
       "      <td>161.0<\/td>\n",
       "      <td>60.0<\/td>\n",
       "      <td>15.6<\/td>\n",
       "    <\/tr>\n",
       "  <\/tbody>\n",
       "<\/table>\n",
       "<\/div>"
      ]
     },
     "metadata":{},
     "output_type":"display_data"
    }
   ],
   "metadata":{
    "datalore":{
     "node_id":"RzfZDpcDpUokSya6Jlhb7S",
     "type":"CODE",
     "hide_input_from_viewers":true,
     "hide_output_from_viewers":true
    }
   }
  },
  {
   "cell_type":"code",
   "source":[
    "# Calculate IQR\n",
    "IQR = df['Rape'].quantile(0.75) - df['Rape'].quantile(0.25)\n",
    "\n",
    "# Calculate lower and upper limits for outliers\n",
    "lower_limit = df['Rape'].quantile(0.25) - (IQR * 1.5)\n",
    "upper_limit = df['Rape'].quantile(0.75) + (IQR * 1.5)\n",
    "\n",
    "# Flag outliers\n",
    "import numpy as np\n",
    "\n",
    "outliers_crime = np.where(df['Rape'] > upper_limit, True, np.where(df['Rape'] < lower_limit, True, False))\n",
    "\n",
    "# Trimming the dataset \/ Removing the outliers\n",
    "crime_trimmed = df.loc[~outliers_crime]\n",
    "\n",
    "# Display the shapes of the original and trimmed datasets\n",
    "df.shape, crime_trimmed.shape"
   ],
   "execution_count":45,
   "outputs":[
    {
     "data":{
      "text\/plain":[
       "((50, 5), (48, 5))"
      ]
     },
     "metadata":{},
     "output_type":"display_data"
    }
   ],
   "metadata":{
    "datalore":{
     "node_id":"G6nEgfVwgpdvSALyS01DOJ",
     "type":"CODE",
     "hide_input_from_viewers":true,
     "hide_output_from_viewers":true
    }
   }
  },
  {
   "cell_type":"code",
   "source":[
    "df.plot(\n",
    "    kind='scatter',\n",
    "    x='City',\n",
    "    y=['Murder','Assault','Rape','UrbanPop'],\n",
    "    backend='plotly',\n",
    "    width = 800\n",
    ")"
   ],
   "execution_count":27,
   "outputs":[
    {
     "data":{
      "application\/vnd.plotly.v1+json":{
       "data":[
        {
         "hovertemplate":"variable=Murder<br>City=%{x}<br>value=%{y}<extra><\/extra>",
         "legendgroup":"Murder",
         "marker":{
          "color":"#636efa",
          "symbol":"circle"
         },
         "mode":"markers",
         "name":"Murder",
         "orientation":"v",
         "showlegend":true,
         "x":[
          "Alabama",
          "Alaska",
          "Arizona",
          "Arkansas",
          "California",
          "Colorado",
          "Connecticut",
          "Delaware",
          "Florida",
          "Georgia",
          "Hawaii",
          "Idaho",
          "Illinois",
          "Indiana",
          "Iowa",
          "Kansas",
          "Kentucky",
          "Louisiana",
          "Maine",
          "Maryland",
          "Massachusetts",
          "Michigan",
          "Minnesota",
          "Mississippi",
          "Missouri",
          "Montana",
          "Nebraska",
          "Nevada",
          "New Hampshire",
          "New Jersey",
          "New Mexico",
          "New York",
          "North Carolina",
          "North Dakota",
          "Ohio",
          "Oklahoma",
          "Oregon",
          "Pennsylvania",
          "Rhode Island",
          "South Carolina",
          "South Dakota",
          "Tennessee",
          "Texas",
          "Utah",
          "Vermont",
          "Virginia",
          "Washington",
          "West Virginia",
          "Wisconsin",
          "Wyoming"
         ],
         "xaxis":"x",
         "y":[
          13.2,
          10,
          8.1,
          8.8,
          9,
          7.9,
          3.3,
          5.9,
          15.4,
          17.4,
          5.3,
          2.6,
          10.4,
          7.2,
          2.2,
          6,
          9.7,
          15.4,
          2.1,
          11.3,
          4.4,
          12.1,
          2.7,
          16.1,
          9,
          6,
          4.3,
          12.2,
          2.1,
          7.4,
          11.4,
          11.1,
          13,
          0.8,
          7.3,
          6.6,
          4.9,
          6.3,
          3.4,
          14.4,
          3.8,
          13.2,
          12.7,
          3.2,
          2.2,
          8.5,
          4,
          5.7,
          2.6,
          6.8
         ],
         "yaxis":"y",
         "type":"scatter"
        },
        {
         "hovertemplate":"variable=Assault<br>City=%{x}<br>value=%{y}<extra><\/extra>",
         "legendgroup":"Assault",
         "marker":{
          "color":"#EF553B",
          "symbol":"circle"
         },
         "mode":"markers",
         "name":"Assault",
         "orientation":"v",
         "showlegend":true,
         "x":[
          "Alabama",
          "Alaska",
          "Arizona",
          "Arkansas",
          "California",
          "Colorado",
          "Connecticut",
          "Delaware",
          "Florida",
          "Georgia",
          "Hawaii",
          "Idaho",
          "Illinois",
          "Indiana",
          "Iowa",
          "Kansas",
          "Kentucky",
          "Louisiana",
          "Maine",
          "Maryland",
          "Massachusetts",
          "Michigan",
          "Minnesota",
          "Mississippi",
          "Missouri",
          "Montana",
          "Nebraska",
          "Nevada",
          "New Hampshire",
          "New Jersey",
          "New Mexico",
          "New York",
          "North Carolina",
          "North Dakota",
          "Ohio",
          "Oklahoma",
          "Oregon",
          "Pennsylvania",
          "Rhode Island",
          "South Carolina",
          "South Dakota",
          "Tennessee",
          "Texas",
          "Utah",
          "Vermont",
          "Virginia",
          "Washington",
          "West Virginia",
          "Wisconsin",
          "Wyoming"
         ],
         "xaxis":"x",
         "y":[
          236,
          263,
          294,
          190,
          276,
          204,
          110,
          238,
          335,
          211,
          46,
          120,
          249,
          113,
          56,
          115,
          109,
          249,
          83,
          300,
          149,
          255,
          72,
          259,
          178,
          109,
          102,
          252,
          57,
          159,
          285,
          254,
          337,
          45,
          120,
          151,
          159,
          106,
          174,
          279,
          86,
          188,
          201,
          120,
          48,
          156,
          145,
          81,
          53,
          161
         ],
         "yaxis":"y",
         "type":"scatter"
        },
        {
         "hovertemplate":"variable=Rape<br>City=%{x}<br>value=%{y}<extra><\/extra>",
         "legendgroup":"Rape",
         "marker":{
          "color":"#00cc96",
          "symbol":"circle"
         },
         "mode":"markers",
         "name":"Rape",
         "orientation":"v",
         "showlegend":true,
         "x":[
          "Alabama",
          "Alaska",
          "Arizona",
          "Arkansas",
          "California",
          "Colorado",
          "Connecticut",
          "Delaware",
          "Florida",
          "Georgia",
          "Hawaii",
          "Idaho",
          "Illinois",
          "Indiana",
          "Iowa",
          "Kansas",
          "Kentucky",
          "Louisiana",
          "Maine",
          "Maryland",
          "Massachusetts",
          "Michigan",
          "Minnesota",
          "Mississippi",
          "Missouri",
          "Montana",
          "Nebraska",
          "Nevada",
          "New Hampshire",
          "New Jersey",
          "New Mexico",
          "New York",
          "North Carolina",
          "North Dakota",
          "Ohio",
          "Oklahoma",
          "Oregon",
          "Pennsylvania",
          "Rhode Island",
          "South Carolina",
          "South Dakota",
          "Tennessee",
          "Texas",
          "Utah",
          "Vermont",
          "Virginia",
          "Washington",
          "West Virginia",
          "Wisconsin",
          "Wyoming"
         ],
         "xaxis":"x",
         "y":[
          21.2,
          44.5,
          31,
          19.5,
          40.6,
          38.7,
          11.1,
          15.8,
          31.9,
          25.8,
          20.2,
          14.2,
          24,
          21,
          11.3,
          18,
          16.3,
          22.2,
          7.8,
          27.8,
          16.3,
          35.1,
          14.9,
          17.1,
          28.2,
          16.4,
          16.5,
          46,
          9.5,
          18.8,
          32.1,
          26.1,
          16.1,
          7.3,
          21.4,
          20,
          29.3,
          14.9,
          8.3,
          22.5,
          12.8,
          26.9,
          25.5,
          22.9,
          11.2,
          20.7,
          26.2,
          9.3,
          10.8,
          15.6
         ],
         "yaxis":"y",
         "type":"scatter"
        },
        {
         "hovertemplate":"variable=UrbanPop<br>City=%{x}<br>value=%{y}<extra><\/extra>",
         "legendgroup":"UrbanPop",
         "marker":{
          "color":"#ab63fa",
          "symbol":"circle"
         },
         "mode":"markers",
         "name":"UrbanPop",
         "orientation":"v",
         "showlegend":true,
         "x":[
          "Alabama",
          "Alaska",
          "Arizona",
          "Arkansas",
          "California",
          "Colorado",
          "Connecticut",
          "Delaware",
          "Florida",
          "Georgia",
          "Hawaii",
          "Idaho",
          "Illinois",
          "Indiana",
          "Iowa",
          "Kansas",
          "Kentucky",
          "Louisiana",
          "Maine",
          "Maryland",
          "Massachusetts",
          "Michigan",
          "Minnesota",
          "Mississippi",
          "Missouri",
          "Montana",
          "Nebraska",
          "Nevada",
          "New Hampshire",
          "New Jersey",
          "New Mexico",
          "New York",
          "North Carolina",
          "North Dakota",
          "Ohio",
          "Oklahoma",
          "Oregon",
          "Pennsylvania",
          "Rhode Island",
          "South Carolina",
          "South Dakota",
          "Tennessee",
          "Texas",
          "Utah",
          "Vermont",
          "Virginia",
          "Washington",
          "West Virginia",
          "Wisconsin",
          "Wyoming"
         ],
         "xaxis":"x",
         "y":[
          58,
          48,
          80,
          50,
          91,
          78,
          77,
          72,
          80,
          60,
          83,
          54,
          83,
          65,
          57,
          66,
          52,
          66,
          51,
          67,
          85,
          74,
          66,
          44,
          70,
          53,
          62,
          81,
          56,
          89,
          70,
          86,
          45,
          44,
          75,
          68,
          67,
          72,
          87,
          48,
          45,
          59,
          80,
          80,
          32,
          63,
          73,
          39,
          66,
          60
         ],
         "yaxis":"y",
         "type":"scatter"
        }
       ],
       "layout":{
        "template":{
         "data":{
          "histogram2dcontour":[
           {
            "type":"histogram2dcontour",
            "colorbar":{
             "outlinewidth":0,
             "ticks":""
            },
            "colorscale":[
             [
              0,
              "#0d0887"
             ],
             [
              0.1111111111111111,
              "#46039f"
             ],
             [
              0.2222222222222222,
              "#7201a8"
             ],
             [
              0.3333333333333333,
              "#9c179e"
             ],
             [
              0.4444444444444444,
              "#bd3786"
             ],
             [
              0.5555555555555556,
              "#d8576b"
             ],
             [
              0.6666666666666666,
              "#ed7953"
             ],
             [
              0.7777777777777778,
              "#fb9f3a"
             ],
             [
              0.8888888888888888,
              "#fdca26"
             ],
             [
              1,
              "#f0f921"
             ]
            ]
           }
          ],
          "choropleth":[
           {
            "type":"choropleth",
            "colorbar":{
             "outlinewidth":0,
             "ticks":""
            }
           }
          ],
          "histogram2d":[
           {
            "type":"histogram2d",
            "colorbar":{
             "outlinewidth":0,
             "ticks":""
            },
            "colorscale":[
             [
              0,
              "#0d0887"
             ],
             [
              0.1111111111111111,
              "#46039f"
             ],
             [
              0.2222222222222222,
              "#7201a8"
             ],
             [
              0.3333333333333333,
              "#9c179e"
             ],
             [
              0.4444444444444444,
              "#bd3786"
             ],
             [
              0.5555555555555556,
              "#d8576b"
             ],
             [
              0.6666666666666666,
              "#ed7953"
             ],
             [
              0.7777777777777778,
              "#fb9f3a"
             ],
             [
              0.8888888888888888,
              "#fdca26"
             ],
             [
              1,
              "#f0f921"
             ]
            ]
           }
          ],
          "heatmap":[
           {
            "type":"heatmap",
            "colorbar":{
             "outlinewidth":0,
             "ticks":""
            },
            "colorscale":[
             [
              0,
              "#0d0887"
             ],
             [
              0.1111111111111111,
              "#46039f"
             ],
             [
              0.2222222222222222,
              "#7201a8"
             ],
             [
              0.3333333333333333,
              "#9c179e"
             ],
             [
              0.4444444444444444,
              "#bd3786"
             ],
             [
              0.5555555555555556,
              "#d8576b"
             ],
             [
              0.6666666666666666,
              "#ed7953"
             ],
             [
              0.7777777777777778,
              "#fb9f3a"
             ],
             [
              0.8888888888888888,
              "#fdca26"
             ],
             [
              1,
              "#f0f921"
             ]
            ]
           }
          ],
          "heatmapgl":[
           {
            "type":"heatmapgl",
            "colorbar":{
             "outlinewidth":0,
             "ticks":""
            },
            "colorscale":[
             [
              0,
              "#0d0887"
             ],
             [
              0.1111111111111111,
              "#46039f"
             ],
             [
              0.2222222222222222,
              "#7201a8"
             ],
             [
              0.3333333333333333,
              "#9c179e"
             ],
             [
              0.4444444444444444,
              "#bd3786"
             ],
             [
              0.5555555555555556,
              "#d8576b"
             ],
             [
              0.6666666666666666,
              "#ed7953"
             ],
             [
              0.7777777777777778,
              "#fb9f3a"
             ],
             [
              0.8888888888888888,
              "#fdca26"
             ],
             [
              1,
              "#f0f921"
             ]
            ]
           }
          ],
          "contourcarpet":[
           {
            "type":"contourcarpet",
            "colorbar":{
             "outlinewidth":0,
             "ticks":""
            }
           }
          ],
          "contour":[
           {
            "type":"contour",
            "colorbar":{
             "outlinewidth":0,
             "ticks":""
            },
            "colorscale":[
             [
              0,
              "#0d0887"
             ],
             [
              0.1111111111111111,
              "#46039f"
             ],
             [
              0.2222222222222222,
              "#7201a8"
             ],
             [
              0.3333333333333333,
              "#9c179e"
             ],
             [
              0.4444444444444444,
              "#bd3786"
             ],
             [
              0.5555555555555556,
              "#d8576b"
             ],
             [
              0.6666666666666666,
              "#ed7953"
             ],
             [
              0.7777777777777778,
              "#fb9f3a"
             ],
             [
              0.8888888888888888,
              "#fdca26"
             ],
             [
              1,
              "#f0f921"
             ]
            ]
           }
          ],
          "surface":[
           {
            "type":"surface",
            "colorbar":{
             "outlinewidth":0,
             "ticks":""
            },
            "colorscale":[
             [
              0,
              "#0d0887"
             ],
             [
              0.1111111111111111,
              "#46039f"
             ],
             [
              0.2222222222222222,
              "#7201a8"
             ],
             [
              0.3333333333333333,
              "#9c179e"
             ],
             [
              0.4444444444444444,
              "#bd3786"
             ],
             [
              0.5555555555555556,
              "#d8576b"
             ],
             [
              0.6666666666666666,
              "#ed7953"
             ],
             [
              0.7777777777777778,
              "#fb9f3a"
             ],
             [
              0.8888888888888888,
              "#fdca26"
             ],
             [
              1,
              "#f0f921"
             ]
            ]
           }
          ],
          "mesh3d":[
           {
            "type":"mesh3d",
            "colorbar":{
             "outlinewidth":0,
             "ticks":""
            }
           }
          ],
          "scatter":[
           {
            "fillpattern":{
             "fillmode":"overlay",
             "size":10,
             "solidity":0.2
            },
            "type":"scatter"
           }
          ],
          "parcoords":[
           {
            "type":"parcoords",
            "line":{
             "colorbar":{
              "outlinewidth":0,
              "ticks":""
             }
            }
           }
          ],
          "scatterpolargl":[
           {
            "type":"scatterpolargl",
            "marker":{
             "colorbar":{
              "outlinewidth":0,
              "ticks":""
             }
            }
           }
          ],
          "bar":[
           {
            "error_x":{
             "color":"#2a3f5f"
            },
            "error_y":{
             "color":"#2a3f5f"
            },
            "marker":{
             "line":{
              "color":"#E5ECF6",
              "width":0.5
             },
             "pattern":{
              "fillmode":"overlay",
              "size":10,
              "solidity":0.2
             }
            },
            "type":"bar"
           }
          ],
          "scattergeo":[
           {
            "type":"scattergeo",
            "marker":{
             "colorbar":{
              "outlinewidth":0,
              "ticks":""
             }
            }
           }
          ],
          "scatterpolar":[
           {
            "type":"scatterpolar",
            "marker":{
             "colorbar":{
              "outlinewidth":0,
              "ticks":""
             }
            }
           }
          ],
          "histogram":[
           {
            "marker":{
             "pattern":{
              "fillmode":"overlay",
              "size":10,
              "solidity":0.2
             }
            },
            "type":"histogram"
           }
          ],
          "scattergl":[
           {
            "type":"scattergl",
            "marker":{
             "colorbar":{
              "outlinewidth":0,
              "ticks":""
             }
            }
           }
          ],
          "scatter3d":[
           {
            "type":"scatter3d",
            "line":{
             "colorbar":{
              "outlinewidth":0,
              "ticks":""
             }
            },
            "marker":{
             "colorbar":{
              "outlinewidth":0,
              "ticks":""
             }
            }
           }
          ],
          "scattermapbox":[
           {
            "type":"scattermapbox",
            "marker":{
             "colorbar":{
              "outlinewidth":0,
              "ticks":""
             }
            }
           }
          ],
          "scatterternary":[
           {
            "type":"scatterternary",
            "marker":{
             "colorbar":{
              "outlinewidth":0,
              "ticks":""
             }
            }
           }
          ],
          "scattercarpet":[
           {
            "type":"scattercarpet",
            "marker":{
             "colorbar":{
              "outlinewidth":0,
              "ticks":""
             }
            }
           }
          ],
          "carpet":[
           {
            "aaxis":{
             "endlinecolor":"#2a3f5f",
             "gridcolor":"white",
             "linecolor":"white",
             "minorgridcolor":"white",
             "startlinecolor":"#2a3f5f"
            },
            "baxis":{
             "endlinecolor":"#2a3f5f",
             "gridcolor":"white",
             "linecolor":"white",
             "minorgridcolor":"white",
             "startlinecolor":"#2a3f5f"
            },
            "type":"carpet"
           }
          ],
          "table":[
           {
            "cells":{
             "fill":{
              "color":"#EBF0F8"
             },
             "line":{
              "color":"white"
             }
            },
            "header":{
             "fill":{
              "color":"#C8D4E3"
             },
             "line":{
              "color":"white"
             }
            },
            "type":"table"
           }
          ],
          "barpolar":[
           {
            "marker":{
             "line":{
              "color":"#E5ECF6",
              "width":0.5
             },
             "pattern":{
              "fillmode":"overlay",
              "size":10,
              "solidity":0.2
             }
            },
            "type":"barpolar"
           }
          ],
          "pie":[
           {
            "automargin":true,
            "type":"pie"
           }
          ]
         },
         "layout":{
          "autotypenumbers":"strict",
          "colorway":[
           "#636efa",
           "#EF553B",
           "#00cc96",
           "#ab63fa",
           "#FFA15A",
           "#19d3f3",
           "#FF6692",
           "#B6E880",
           "#FF97FF",
           "#FECB52"
          ],
          "font":{
           "color":"#2a3f5f"
          },
          "hovermode":"closest",
          "hoverlabel":{
           "align":"left"
          },
          "paper_bgcolor":"white",
          "plot_bgcolor":"#E5ECF6",
          "polar":{
           "bgcolor":"#E5ECF6",
           "angularaxis":{
            "gridcolor":"white",
            "linecolor":"white",
            "ticks":""
           },
           "radialaxis":{
            "gridcolor":"white",
            "linecolor":"white",
            "ticks":""
           }
          },
          "ternary":{
           "bgcolor":"#E5ECF6",
           "aaxis":{
            "gridcolor":"white",
            "linecolor":"white",
            "ticks":""
           },
           "baxis":{
            "gridcolor":"white",
            "linecolor":"white",
            "ticks":""
           },
           "caxis":{
            "gridcolor":"white",
            "linecolor":"white",
            "ticks":""
           }
          },
          "coloraxis":{
           "colorbar":{
            "outlinewidth":0,
            "ticks":""
           }
          },
          "colorscale":{
           "sequential":[
            [
             0,
             "#0d0887"
            ],
            [
             0.1111111111111111,
             "#46039f"
            ],
            [
             0.2222222222222222,
             "#7201a8"
            ],
            [
             0.3333333333333333,
             "#9c179e"
            ],
            [
             0.4444444444444444,
             "#bd3786"
            ],
            [
             0.5555555555555556,
             "#d8576b"
            ],
            [
             0.6666666666666666,
             "#ed7953"
            ],
            [
             0.7777777777777778,
             "#fb9f3a"
            ],
            [
             0.8888888888888888,
             "#fdca26"
            ],
            [
             1,
             "#f0f921"
            ]
           ],
           "sequentialminus":[
            [
             0,
             "#0d0887"
            ],
            [
             0.1111111111111111,
             "#46039f"
            ],
            [
             0.2222222222222222,
             "#7201a8"
            ],
            [
             0.3333333333333333,
             "#9c179e"
            ],
            [
             0.4444444444444444,
             "#bd3786"
            ],
            [
             0.5555555555555556,
             "#d8576b"
            ],
            [
             0.6666666666666666,
             "#ed7953"
            ],
            [
             0.7777777777777778,
             "#fb9f3a"
            ],
            [
             0.8888888888888888,
             "#fdca26"
            ],
            [
             1,
             "#f0f921"
            ]
           ],
           "diverging":[
            [
             0,
             "#8e0152"
            ],
            [
             0.1,
             "#c51b7d"
            ],
            [
             0.2,
             "#de77ae"
            ],
            [
             0.3,
             "#f1b6da"
            ],
            [
             0.4,
             "#fde0ef"
            ],
            [
             0.5,
             "#f7f7f7"
            ],
            [
             0.6,
             "#e6f5d0"
            ],
            [
             0.7,
             "#b8e186"
            ],
            [
             0.8,
             "#7fbc41"
            ],
            [
             0.9,
             "#4d9221"
            ],
            [
             1,
             "#276419"
            ]
           ]
          },
          "xaxis":{
           "gridcolor":"white",
           "linecolor":"white",
           "ticks":"",
           "title":{
            "standoff":15
           },
           "zerolinecolor":"white",
           "automargin":true,
           "zerolinewidth":2
          },
          "yaxis":{
           "gridcolor":"white",
           "linecolor":"white",
           "ticks":"",
           "title":{
            "standoff":15
           },
           "zerolinecolor":"white",
           "automargin":true,
           "zerolinewidth":2
          },
          "scene":{
           "xaxis":{
            "backgroundcolor":"#E5ECF6",
            "gridcolor":"white",
            "linecolor":"white",
            "showbackground":true,
            "ticks":"",
            "zerolinecolor":"white",
            "gridwidth":2
           },
           "yaxis":{
            "backgroundcolor":"#E5ECF6",
            "gridcolor":"white",
            "linecolor":"white",
            "showbackground":true,
            "ticks":"",
            "zerolinecolor":"white",
            "gridwidth":2
           },
           "zaxis":{
            "backgroundcolor":"#E5ECF6",
            "gridcolor":"white",
            "linecolor":"white",
            "showbackground":true,
            "ticks":"",
            "zerolinecolor":"white",
            "gridwidth":2
           }
          },
          "shapedefaults":{
           "line":{
            "color":"#2a3f5f"
           }
          },
          "annotationdefaults":{
           "arrowcolor":"#2a3f5f",
           "arrowhead":0,
           "arrowwidth":1
          },
          "geo":{
           "bgcolor":"white",
           "landcolor":"#E5ECF6",
           "subunitcolor":"white",
           "showland":true,
           "showlakes":true,
           "lakecolor":"white"
          },
          "title":{
           "x":0.05
          },
          "mapbox":{
           "style":"light"
          }
         }
        },
        "xaxis":{
         "anchor":"y",
         "domain":[
          0,
          1
         ],
         "title":{
          "text":"City"
         }
        },
        "yaxis":{
         "anchor":"x",
         "domain":[
          0,
          1
         ],
         "title":{
          "text":"value"
         }
        },
        "legend":{
         "title":{
          "text":"variable"
         },
         "tracegroupgap":0
        },
        "margin":{
         "t":60
        },
        "width":800
       },
       "config":{
        "plotlyServerURL":"https:\/\/plot.ly"
       }
      }
     },
     "metadata":{},
     "output_type":"display_data"
    }
   ],
   "metadata":{
    "datalore":{
     "node_id":"ZB6eGHByAlyTzifmPC3JMO",
     "type":"CODE",
     "hide_input_from_viewers":true,
     "hide_output_from_viewers":true
    }
   }
  },
  {
   "cell_type":"code",
   "source":[
    "#Normalization Function\n",
    "#Normalized Data from Considering the numerical part of the data)\n",
    "\n",
    "def norm_func(i):\n",
    "    x = (i-i.min())\/(i.max()-i.min())\n",
    "    return(x)\n",
    "df_norm = norm_func(df.iloc[:,1:])\n",
    "df_norm.head(10)"
   ],
   "execution_count":36,
   "outputs":[
    {
     "data":{
      "text\/html":[
       "<div>\n",
       "<style scoped>\n",
       "    .dataframe tbody tr th:only-of-type {\n",
       "        vertical-align: middle;\n",
       "    }\n",
       "\n",
       "    .dataframe tbody tr th {\n",
       "        vertical-align: top;\n",
       "    }\n",
       "\n",
       "    .dataframe thead th {\n",
       "        text-align: right;\n",
       "    }\n",
       "<\/style>\n",
       "<table border=\"1\" class=\"dataframe\">\n",
       "  <thead>\n",
       "    <tr style=\"text-align: right;\">\n",
       "      <th><\/th>\n",
       "      <th>Murder<\/th>\n",
       "      <th>Assault<\/th>\n",
       "      <th>UrbanPop<\/th>\n",
       "      <th>Rape<\/th>\n",
       "    <\/tr>\n",
       "  <\/thead>\n",
       "  <tbody>\n",
       "    <tr>\n",
       "      <th>0<\/th>\n",
       "      <td>0.746988<\/td>\n",
       "      <td>0.654110<\/td>\n",
       "      <td>0.440678<\/td>\n",
       "      <td>0.359173<\/td>\n",
       "    <\/tr>\n",
       "    <tr>\n",
       "      <th>1<\/th>\n",
       "      <td>0.554217<\/td>\n",
       "      <td>0.746575<\/td>\n",
       "      <td>0.271186<\/td>\n",
       "      <td>0.961240<\/td>\n",
       "    <\/tr>\n",
       "    <tr>\n",
       "      <th>2<\/th>\n",
       "      <td>0.439759<\/td>\n",
       "      <td>0.852740<\/td>\n",
       "      <td>0.813559<\/td>\n",
       "      <td>0.612403<\/td>\n",
       "    <\/tr>\n",
       "    <tr>\n",
       "      <th>3<\/th>\n",
       "      <td>0.481928<\/td>\n",
       "      <td>0.496575<\/td>\n",
       "      <td>0.305085<\/td>\n",
       "      <td>0.315245<\/td>\n",
       "    <\/tr>\n",
       "    <tr>\n",
       "      <th>4<\/th>\n",
       "      <td>0.493976<\/td>\n",
       "      <td>0.791096<\/td>\n",
       "      <td>1.000000<\/td>\n",
       "      <td>0.860465<\/td>\n",
       "    <\/tr>\n",
       "    <tr>\n",
       "      <th>5<\/th>\n",
       "      <td>0.427711<\/td>\n",
       "      <td>0.544521<\/td>\n",
       "      <td>0.779661<\/td>\n",
       "      <td>0.811370<\/td>\n",
       "    <\/tr>\n",
       "    <tr>\n",
       "      <th>6<\/th>\n",
       "      <td>0.150602<\/td>\n",
       "      <td>0.222603<\/td>\n",
       "      <td>0.762712<\/td>\n",
       "      <td>0.098191<\/td>\n",
       "    <\/tr>\n",
       "    <tr>\n",
       "      <th>7<\/th>\n",
       "      <td>0.307229<\/td>\n",
       "      <td>0.660959<\/td>\n",
       "      <td>0.677966<\/td>\n",
       "      <td>0.219638<\/td>\n",
       "    <\/tr>\n",
       "    <tr>\n",
       "      <th>8<\/th>\n",
       "      <td>0.879518<\/td>\n",
       "      <td>0.993151<\/td>\n",
       "      <td>0.813559<\/td>\n",
       "      <td>0.635659<\/td>\n",
       "    <\/tr>\n",
       "    <tr>\n",
       "      <th>9<\/th>\n",
       "      <td>1.000000<\/td>\n",
       "      <td>0.568493<\/td>\n",
       "      <td>0.474576<\/td>\n",
       "      <td>0.478036<\/td>\n",
       "    <\/tr>\n",
       "  <\/tbody>\n",
       "<\/table>\n",
       "<\/div>"
      ]
     },
     "metadata":{},
     "output_type":"display_data"
    }
   ],
   "metadata":{
    "datalore":{
     "node_id":"WZ0ae2GTFBssTsCaSh57nd",
     "type":"CODE",
     "hide_input_from_viewers":true,
     "hide_output_from_viewers":true
    }
   }
  },
  {
   "cell_type":"code",
   "source":[
    "#for creatiny dendragram\n",
    "from scipy.cluster.hierarchy import linkage\n",
    "import scipy.cluster.hierarchy as sch\n",
    "z=linkage(df_norm,method=\"complete\",metric=\"euclidean\")\n",
    "#dendragram\n",
    "plt.figure(figsize=(27,10)),\n",
    "plt.title('Hierarchical clustering dendrogon'),\n",
    "plt.xlabel('Index'),\n",
    "plt.ylabel('Distance')\n",
    "\n",
    "sch.dendrogram(z,\n",
    "               leaf_rotation=0,\n",
    "               leaf_font_size=10\n",
    "               )"
   ],
   "execution_count":35,
   "outputs":[
    {
     "data":{
      "text\/plain":[
       "{'icoord': [[5.0, 5.0, 15.0, 15.0],\n",
       "  [35.0, 35.0, 45.0, 45.0],\n",
       "  [25.0, 25.0, 40.0, 40.0],\n",
       "  [75.0, 75.0, 85.0, 85.0],\n",
       "  [65.0, 65.0, 80.0, 80.0],\n",
       "  [55.0, 55.0, 72.5, 72.5],\n",
       "  [32.5, 32.5, 63.75, 63.75],\n",
       "  [10.0, 10.0, 48.125, 48.125],\n",
       "  [105.0, 105.0, 115.0, 115.0],\n",
       "  [95.0, 95.0, 110.0, 110.0],\n",
       "  [29.0625, 29.0625, 102.5, 102.5],\n",
       "  [135.0, 135.0, 145.0, 145.0],\n",
       "  [155.0, 155.0, 165.0, 165.0],\n",
       "  [140.0, 140.0, 160.0, 160.0],\n",
       "  [185.0, 185.0, 195.0, 195.0],\n",
       "  [175.0, 175.0, 190.0, 190.0],\n",
       "  [150.0, 150.0, 182.5, 182.5],\n",
       "  [125.0, 125.0, 166.25, 166.25],\n",
       "  [65.78125, 65.78125, 145.625, 145.625],\n",
       "  [205.0, 205.0, 215.0, 215.0],\n",
       "  [225.0, 225.0, 235.0, 235.0],\n",
       "  [210.0, 210.0, 230.0, 230.0],\n",
       "  [255.0, 255.0, 265.0, 265.0],\n",
       "  [245.0, 245.0, 260.0, 260.0],\n",
       "  [285.0, 285.0, 295.0, 295.0],\n",
       "  [275.0, 275.0, 290.0, 290.0],\n",
       "  [252.5, 252.5, 282.5, 282.5],\n",
       "  [220.0, 220.0, 267.5, 267.5],\n",
       "  [305.0, 305.0, 315.0, 315.0],\n",
       "  [325.0, 325.0, 335.0, 335.0],\n",
       "  [355.0, 355.0, 365.0, 365.0],\n",
       "  [345.0, 345.0, 360.0, 360.0],\n",
       "  [375.0, 375.0, 385.0, 385.0],\n",
       "  [395.0, 395.0, 405.0, 405.0],\n",
       "  [380.0, 380.0, 400.0, 400.0],\n",
       "  [352.5, 352.5, 390.0, 390.0],\n",
       "  [330.0, 330.0, 371.25, 371.25],\n",
       "  [310.0, 310.0, 350.625, 350.625],\n",
       "  [435.0, 435.0, 445.0, 445.0],\n",
       "  [425.0, 425.0, 440.0, 440.0],\n",
       "  [415.0, 415.0, 432.5, 432.5],\n",
       "  [465.0, 465.0, 475.0, 475.0],\n",
       "  [455.0, 455.0, 470.0, 470.0],\n",
       "  [485.0, 485.0, 495.0, 495.0],\n",
       "  [462.5, 462.5, 490.0, 490.0],\n",
       "  [423.75, 423.75, 476.25, 476.25],\n",
       "  [330.3125, 330.3125, 450.0, 450.0],\n",
       "  [243.75, 243.75, 390.15625, 390.15625],\n",
       "  [105.703125, 105.703125, 316.953125, 316.953125]],\n",
       " 'dcoord': [[0.0, 0.32298337565493285, 0.32298337565493285, 0.0],\n",
       "  [0.0, 0.08718602317415584, 0.08718602317415584, 0.0],\n",
       "  [0.0, 0.2298197881951437, 0.2298197881951437, 0.08718602317415584],\n",
       "  [0.0, 0.1326887166370817, 0.1326887166370817, 0.0],\n",
       "  [0.0, 0.2751911800201059, 0.2751911800201059, 0.1326887166370817],\n",
       "  [0.0, 0.3121988143225066, 0.3121988143225066, 0.2751911800201059],\n",
       "  [0.2298197881951437,\n",
       "   0.4454489222285913,\n",
       "   0.4454489222285913,\n",
       "   0.3121988143225066],\n",
       "  [0.32298337565493285,\n",
       "   0.5139335726532426,\n",
       "   0.5139335726532426,\n",
       "   0.4454489222285913],\n",
       "  [0.0, 0.30350212644518926, 0.30350212644518926, 0.0],\n",
       "  [0.0, 0.5241820852252621, 0.5241820852252621, 0.30350212644518926],\n",
       "  [0.5139335726532426,\n",
       "   0.6896384843463543,\n",
       "   0.6896384843463543,\n",
       "   0.5241820852252621],\n",
       "  [0.0, 0.19646762670483467, 0.19646762670483467, 0.0],\n",
       "  [0.0, 0.26704782504824054, 0.26704782504824054, 0.0],\n",
       "  [0.19646762670483467,\n",
       "   0.3000515878552147,\n",
       "   0.3000515878552147,\n",
       "   0.26704782504824054],\n",
       "  [0.0, 0.1981045428177799, 0.1981045428177799, 0.0],\n",
       "  [0.0, 0.3273900685941831, 0.3273900685941831, 0.1981045428177799],\n",
       "  [0.3000515878552147,\n",
       "   0.6282597237275291,\n",
       "   0.6282597237275291,\n",
       "   0.3273900685941831],\n",
       "  [0.0, 0.8006851946532273, 0.8006851946532273, 0.6282597237275291],\n",
       "  [0.6896384843463543,\n",
       "   1.0907100064624253,\n",
       "   1.0907100064624253,\n",
       "   0.8006851946532273],\n",
       "  [0.0, 0.1786474759189232, 0.1786474759189232, 0.0],\n",
       "  [0.0, 0.24236626385665597, 0.24236626385665597, 0.0],\n",
       "  [0.1786474759189232,\n",
       "   0.33493899893828966,\n",
       "   0.33493899893828966,\n",
       "   0.24236626385665597],\n",
       "  [0.0, 0.04998623129373585, 0.04998623129373585, 0.0],\n",
       "  [0.0, 0.16464301932815495, 0.16464301932815495, 0.04998623129373585],\n",
       "  [0.0, 0.18530588826145022, 0.18530588826145022, 0.0],\n",
       "  [0.0, 0.21653862295460438, 0.21653862295460438, 0.18530588826145022],\n",
       "  [0.16464301932815495,\n",
       "   0.34825906498359865,\n",
       "   0.34825906498359865,\n",
       "   0.21653862295460438],\n",
       "  [0.33493899893828966,\n",
       "   0.5722808587454173,\n",
       "   0.5722808587454173,\n",
       "   0.34825906498359865],\n",
       "  [0.0, 0.29643717675385844, 0.29643717675385844, 0.0],\n",
       "  [0.0, 0.14831255977191823, 0.14831255977191823, 0.0],\n",
       "  [0.0, 0.1445780652077951, 0.1445780652077951, 0.0],\n",
       "  [0.0, 0.18063798566090036, 0.18063798566090036, 0.1445780652077951],\n",
       "  [0.0, 0.1075600451196029, 0.1075600451196029, 0.0],\n",
       "  [0.0, 0.19163321903644334, 0.19163321903644334, 0.0],\n",
       "  [0.1075600451196029,\n",
       "   0.2059987793149611,\n",
       "   0.2059987793149611,\n",
       "   0.19163321903644334],\n",
       "  [0.18063798566090036,\n",
       "   0.3282077642179114,\n",
       "   0.3282077642179114,\n",
       "   0.2059987793149611],\n",
       "  [0.14831255977191823,\n",
       "   0.43092062738393194,\n",
       "   0.43092062738393194,\n",
       "   0.3282077642179114],\n",
       "  [0.29643717675385844,\n",
       "   0.5702926603530301,\n",
       "   0.5702926603530301,\n",
       "   0.43092062738393194],\n",
       "  [0.0, 0.20640509935433868, 0.20640509935433868, 0.0],\n",
       "  [0.0, 0.36805556932996364, 0.36805556932996364, 0.20640509935433868],\n",
       "  [0.0, 0.41582995954226015, 0.41582995954226015, 0.36805556932996364],\n",
       "  [0.0, 0.12447549995971041, 0.12447549995971041, 0.0],\n",
       "  [0.0, 0.2733195845103942, 0.2733195845103942, 0.12447549995971041],\n",
       "  [0.0, 0.2961094241491149, 0.2961094241491149, 0.0],\n",
       "  [0.2733195845103942,\n",
       "   0.45608940796571473,\n",
       "   0.45608940796571473,\n",
       "   0.2961094241491149],\n",
       "  [0.41582995954226015,\n",
       "   0.6937898932323107,\n",
       "   0.6937898932323107,\n",
       "   0.45608940796571473],\n",
       "  [0.5702926603530301,\n",
       "   0.7751263344178949,\n",
       "   0.7751263344178949,\n",
       "   0.6937898932323107],\n",
       "  [0.5722808587454173,\n",
       "   1.1020662962028542,\n",
       "   1.1020662962028542,\n",
       "   0.7751263344178949],\n",
       "  [1.0907100064624253,\n",
       "   1.5957250324166088,\n",
       "   1.5957250324166088,\n",
       "   1.1020662962028542]],\n",
       " 'ivl': ['5',\n",
       "  '24',\n",
       "  '42',\n",
       "  '12',\n",
       "  '31',\n",
       "  '2',\n",
       "  '21',\n",
       "  '19',\n",
       "  '30',\n",
       "  '8',\n",
       "  '4',\n",
       "  '27',\n",
       "  '1',\n",
       "  '0',\n",
       "  '17',\n",
       "  '9',\n",
       "  '41',\n",
       "  '32',\n",
       "  '23',\n",
       "  '39',\n",
       "  '40',\n",
       "  '47',\n",
       "  '33',\n",
       "  '44',\n",
       "  '18',\n",
       "  '14',\n",
       "  '28',\n",
       "  '11',\n",
       "  '25',\n",
       "  '26',\n",
       "  '3',\n",
       "  '16',\n",
       "  '36',\n",
       "  '46',\n",
       "  '49',\n",
       "  '35',\n",
       "  '45',\n",
       "  '13',\n",
       "  '15',\n",
       "  '34',\n",
       "  '37',\n",
       "  '7',\n",
       "  '38',\n",
       "  '20',\n",
       "  '29',\n",
       "  '6',\n",
       "  '22',\n",
       "  '48',\n",
       "  '10',\n",
       "  '43'],\n",
       " 'leaves': [5,\n",
       "  24,\n",
       "  42,\n",
       "  12,\n",
       "  31,\n",
       "  2,\n",
       "  21,\n",
       "  19,\n",
       "  30,\n",
       "  8,\n",
       "  4,\n",
       "  27,\n",
       "  1,\n",
       "  0,\n",
       "  17,\n",
       "  9,\n",
       "  41,\n",
       "  32,\n",
       "  23,\n",
       "  39,\n",
       "  40,\n",
       "  47,\n",
       "  33,\n",
       "  44,\n",
       "  18,\n",
       "  14,\n",
       "  28,\n",
       "  11,\n",
       "  25,\n",
       "  26,\n",
       "  3,\n",
       "  16,\n",
       "  36,\n",
       "  46,\n",
       "  49,\n",
       "  35,\n",
       "  45,\n",
       "  13,\n",
       "  15,\n",
       "  34,\n",
       "  37,\n",
       "  7,\n",
       "  38,\n",
       "  20,\n",
       "  29,\n",
       "  6,\n",
       "  22,\n",
       "  48,\n",
       "  10,\n",
       "  43],\n",
       " 'color_list': ['C1',\n",
       "  'C1',\n",
       "  'C1',\n",
       "  'C1',\n",
       "  'C1',\n",
       "  'C1',\n",
       "  'C1',\n",
       "  'C1',\n",
       "  'C1',\n",
       "  'C1',\n",
       "  'C1',\n",
       "  'C1',\n",
       "  'C1',\n",
       "  'C1',\n",
       "  'C1',\n",
       "  'C1',\n",
       "  'C1',\n",
       "  'C1',\n",
       "  'C1',\n",
       "  'C2',\n",
       "  'C2',\n",
       "  'C2',\n",
       "  'C2',\n",
       "  'C2',\n",
       "  'C2',\n",
       "  'C2',\n",
       "  'C2',\n",
       "  'C2',\n",
       "  'C2',\n",
       "  'C2',\n",
       "  'C2',\n",
       "  'C2',\n",
       "  'C2',\n",
       "  'C2',\n",
       "  'C2',\n",
       "  'C2',\n",
       "  'C2',\n",
       "  'C2',\n",
       "  'C2',\n",
       "  'C2',\n",
       "  'C2',\n",
       "  'C2',\n",
       "  'C2',\n",
       "  'C2',\n",
       "  'C2',\n",
       "  'C2',\n",
       "  'C2',\n",
       "  'C2',\n",
       "  'C0'],\n",
       " 'leaves_color_list': ['C1',\n",
       "  'C1',\n",
       "  'C1',\n",
       "  'C1',\n",
       "  'C1',\n",
       "  'C1',\n",
       "  'C1',\n",
       "  'C1',\n",
       "  'C1',\n",
       "  'C1',\n",
       "  'C1',\n",
       "  'C1',\n",
       "  'C1',\n",
       "  'C1',\n",
       "  'C1',\n",
       "  'C1',\n",
       "  'C1',\n",
       "  'C1',\n",
       "  'C1',\n",
       "  'C1',\n",
       "  'C2',\n",
       "  'C2',\n",
       "  'C2',\n",
       "  'C2',\n",
       "  'C2',\n",
       "  'C2',\n",
       "  'C2',\n",
       "  'C2',\n",
       "  'C2',\n",
       "  'C2',\n",
       "  'C2',\n",
       "  'C2',\n",
       "  'C2',\n",
       "  'C2',\n",
       "  'C2',\n",
       "  'C2',\n",
       "  'C2',\n",
       "  'C2',\n",
       "  'C2',\n",
       "  'C2',\n",
       "  'C2',\n",
       "  'C2',\n",
       "  'C2',\n",
       "  'C2',\n",
       "  'C2',\n",
       "  'C2',\n",
       "  'C2',\n",
       "  'C2',\n",
       "  'C2',\n",
       "  'C2']}"
      ]
     },
     "metadata":{},
     "output_type":"display_data"
    },
    {
     "data":{
      "image\/png":"[encoded data removed]"
     },
     "metadata":{
      "image\/png":{}
     },
     "output_type":"display_data"
    }
   ],
   "metadata":{
    "datalore":{
     "node_id":"VXPWapHyxFg1OH4UOHKNk2",
     "type":"CODE",
     "hide_input_from_viewers":true,
     "hide_output_from_viewers":true
    }
   }
  },
  {
   "cell_type":"code",
   "source":[
    "from sklearn.cluster import AgglomerativeClustering"
   ],
   "execution_count":37,
   "outputs":[],
   "metadata":{
    "datalore":{
     "node_id":"BDLyJWpePivluVazdFKcwo",
     "type":"CODE",
     "hide_input_from_viewers":true,
     "hide_output_from_viewers":true
    }
   }
  },
  {
   "cell_type":"code",
   "source":[
    "crime_hc = AgglomerativeClustering(n_clusters= 3,linkage= 'complete',affinity = \"euclidean\")\n",
    "crime_hc"
   ],
   "execution_count":51,
   "outputs":[
    {
     "data":{
      "text\/html":[
       "<style>#sk-container-id-3 {color: black;background-color: white;}#sk-container-id-3 pre{padding: 0;}#sk-container-id-3 div.sk-toggleable {background-color: white;}#sk-container-id-3 label.sk-toggleable__label {cursor: pointer;display: block;width: 100%;margin-bottom: 0;padding: 0.3em;box-sizing: border-box;text-align: center;}#sk-container-id-3 label.sk-toggleable__label-arrow:before {content: \"▸\";float: left;margin-right: 0.25em;color: #696969;}#sk-container-id-3 label.sk-toggleable__label-arrow:hover:before {color: black;}#sk-container-id-3 div.sk-estimator:hover label.sk-toggleable__label-arrow:before {color: black;}#sk-container-id-3 div.sk-toggleable__content {max-height: 0;max-width: 0;overflow: hidden;text-align: left;background-color: #f0f8ff;}#sk-container-id-3 div.sk-toggleable__content pre {margin: 0.2em;color: black;border-radius: 0.25em;background-color: #f0f8ff;}#sk-container-id-3 input.sk-toggleable__control:checked~div.sk-toggleable__content {max-height: 200px;max-width: 100%;overflow: auto;}#sk-container-id-3 input.sk-toggleable__control:checked~label.sk-toggleable__label-arrow:before {content: \"▾\";}#sk-container-id-3 div.sk-estimator input.sk-toggleable__control:checked~label.sk-toggleable__label {background-color: #d4ebff;}#sk-container-id-3 div.sk-label input.sk-toggleable__control:checked~label.sk-toggleable__label {background-color: #d4ebff;}#sk-container-id-3 input.sk-hidden--visually {border: 0;clip: rect(1px 1px 1px 1px);clip: rect(1px, 1px, 1px, 1px);height: 1px;margin: -1px;overflow: hidden;padding: 0;position: absolute;width: 1px;}#sk-container-id-3 div.sk-estimator {font-family: monospace;background-color: #f0f8ff;border: 1px dotted black;border-radius: 0.25em;box-sizing: border-box;margin-bottom: 0.5em;}#sk-container-id-3 div.sk-estimator:hover {background-color: #d4ebff;}#sk-container-id-3 div.sk-parallel-item::after {content: \"\";width: 100%;border-bottom: 1px solid gray;flex-grow: 1;}#sk-container-id-3 div.sk-label:hover label.sk-toggleable__label {background-color: #d4ebff;}#sk-container-id-3 div.sk-serial::before {content: \"\";position: absolute;border-left: 1px solid gray;box-sizing: border-box;top: 0;bottom: 0;left: 50%;z-index: 0;}#sk-container-id-3 div.sk-serial {display: flex;flex-direction: column;align-items: center;background-color: white;padding-right: 0.2em;padding-left: 0.2em;position: relative;}#sk-container-id-3 div.sk-item {position: relative;z-index: 1;}#sk-container-id-3 div.sk-parallel {display: flex;align-items: stretch;justify-content: center;background-color: white;position: relative;}#sk-container-id-3 div.sk-item::before, #sk-container-id-3 div.sk-parallel-item::before {content: \"\";position: absolute;border-left: 1px solid gray;box-sizing: border-box;top: 0;bottom: 0;left: 50%;z-index: -1;}#sk-container-id-3 div.sk-parallel-item {display: flex;flex-direction: column;z-index: 1;position: relative;background-color: white;}#sk-container-id-3 div.sk-parallel-item:first-child::after {align-self: flex-end;width: 50%;}#sk-container-id-3 div.sk-parallel-item:last-child::after {align-self: flex-start;width: 50%;}#sk-container-id-3 div.sk-parallel-item:only-child::after {width: 0;}#sk-container-id-3 div.sk-dashed-wrapped {border: 1px dashed gray;margin: 0 0.4em 0.5em 0.4em;box-sizing: border-box;padding-bottom: 0.4em;background-color: white;}#sk-container-id-3 div.sk-label label {font-family: monospace;font-weight: bold;display: inline-block;line-height: 1.2em;}#sk-container-id-3 div.sk-label-container {text-align: center;}#sk-container-id-3 div.sk-container {\/* jupyter's `normalize.less` sets `[hidden] { display: none; }` but bootstrap.min.css set `[hidden] { display: none !important; }` so we also need the `!important` here to be able to override the default hidden behavior on the sphinx rendered scikit-learn.org. See: https:\/\/github.com\/scikit-learn\/scikit-learn\/issues\/21755 *\/display: inline-block !important;position: relative;}#sk-container-id-3 div.sk-text-repr-fallback {display: none;}<\/style><div id=\"sk-container-id-3\" class=\"sk-top-container\"><div class=\"sk-text-repr-fallback\"><pre>AgglomerativeClustering(affinity=&#x27;euclidean&#x27;, linkage=&#x27;complete&#x27;, n_clusters=3)<\/pre><b>In a Jupyter environment, please rerun this cell to show the HTML representation or trust the notebook. <br \/>On GitHub, the HTML representation is unable to render, please try loading this page with nbviewer.org.<\/b><\/div><div class=\"sk-container\" hidden><div class=\"sk-item\"><div class=\"sk-estimator sk-toggleable\"><input class=\"sk-toggleable__control sk-hidden--visually\" id=\"sk-estimator-id-3\" type=\"checkbox\" checked><label for=\"sk-estimator-id-3\" class=\"sk-toggleable__label sk-toggleable__label-arrow\">AgglomerativeClustering<\/label><div class=\"sk-toggleable__content\"><pre>AgglomerativeClustering(affinity=&#x27;euclidean&#x27;, linkage=&#x27;complete&#x27;, n_clusters=3)<\/pre><\/div><\/div><\/div><\/div><\/div>"
      ]
     },
     "metadata":{},
     "output_type":"display_data"
    }
   ],
   "metadata":{
    "datalore":{
     "node_id":"8GoqrYh0AmKeZiogAaCXDj",
     "type":"CODE",
     "hide_input_from_viewers":true,
     "hide_output_from_viewers":true
    }
   }
  },
  {
   "cell_type":"code",
   "source":[
    "# Instantiate AgglomerativeClustering object\n",
    "crime_hc = AgglomerativeClustering(n_clusters= 3,linkage= 'complete',metric = \"euclidean\")\n",
    "\n",
    "# Fit the object to data \n",
    "crime_hc.fit(df_norm)\n",
    "\n",
    "# Display the labels\n",
    "crime_hc.labels_"
   ],
   "execution_count":50,
   "outputs":[
    {
     "data":{
      "text\/html":[
       "<pre>array([0, 0, 0, 1, 0, 0, 1, 1, 0, 0, 1, 2, 0, 1, 2, 1, 1, 0, 2, 0, 1, 0,\n",
       "       1, 0, 0, 2, 2, 0, 2, 1, 0, 0, 0, 2, 1, 1, 1, 1, 1, 0, 2, 0, 0, 1,\n",
       "       2, 1, 1, 2, 1, 1])<\/pre>"
      ]
     },
     "metadata":{},
     "output_type":"display_data"
    }
   ],
   "metadata":{
    "datalore":{
     "node_id":"xLyePiXJRXirOiJBuurL7Z",
     "type":"CODE",
     "hide_input_from_viewers":true,
     "hide_output_from_viewers":true
    }
   }
  },
  {
   "cell_type":"code",
   "source":[
    "crime_hc = AgglomerativeClustering(n_clusters= 3,linkage= 'complete',metric = \"euclidean\")\n",
    "\n",
    "# Fit the object to data \n",
    "crime_hc.fit(df_norm)\n",
    "\n",
    "# Display the labels\n",
    "crime_hc.labels_\n",
    "\n",
    "# Add the AgglomerativeClustering labels as a new column named 'Clust' in DataFrame 'df'\n",
    "df['Clust'] = crime_hc.labels_\n",
    "df"
   ],
   "execution_count":54,
   "outputs":[
    {
     "data":{
      "text\/html":[
       "<div>\n",
       "<style scoped>\n",
       "    .dataframe tbody tr th:only-of-type {\n",
       "        vertical-align: middle;\n",
       "    }\n",
       "\n",
       "    .dataframe tbody tr th {\n",
       "        vertical-align: top;\n",
       "    }\n",
       "\n",
       "    .dataframe thead th {\n",
       "        text-align: right;\n",
       "    }\n",
       "<\/style>\n",
       "<table border=\"1\" class=\"dataframe\">\n",
       "  <thead>\n",
       "    <tr style=\"text-align: right;\">\n",
       "      <th><\/th>\n",
       "      <th>City<\/th>\n",
       "      <th>Murder<\/th>\n",
       "      <th>Assault<\/th>\n",
       "      <th>UrbanPop<\/th>\n",
       "      <th>Rape<\/th>\n",
       "      <th>Clust<\/th>\n",
       "    <\/tr>\n",
       "  <\/thead>\n",
       "  <tbody>\n",
       "    <tr>\n",
       "      <th>0<\/th>\n",
       "      <td>Alabama<\/td>\n",
       "      <td>13.2<\/td>\n",
       "      <td>236<\/td>\n",
       "      <td>58<\/td>\n",
       "      <td>21.2<\/td>\n",
       "      <td>0<\/td>\n",
       "    <\/tr>\n",
       "    <tr>\n",
       "      <th>1<\/th>\n",
       "      <td>Alaska<\/td>\n",
       "      <td>10.0<\/td>\n",
       "      <td>263<\/td>\n",
       "      <td>48<\/td>\n",
       "      <td>44.5<\/td>\n",
       "      <td>0<\/td>\n",
       "    <\/tr>\n",
       "    <tr>\n",
       "      <th>2<\/th>\n",
       "      <td>Arizona<\/td>\n",
       "      <td>8.1<\/td>\n",
       "      <td>294<\/td>\n",
       "      <td>80<\/td>\n",
       "      <td>31.0<\/td>\n",
       "      <td>0<\/td>\n",
       "    <\/tr>\n",
       "    <tr>\n",
       "      <th>3<\/th>\n",
       "      <td>Arkansas<\/td>\n",
       "      <td>8.8<\/td>\n",
       "      <td>190<\/td>\n",
       "      <td>50<\/td>\n",
       "      <td>19.5<\/td>\n",
       "      <td>1<\/td>\n",
       "    <\/tr>\n",
       "    <tr>\n",
       "      <th>4<\/th>\n",
       "      <td>California<\/td>\n",
       "      <td>9.0<\/td>\n",
       "      <td>276<\/td>\n",
       "      <td>91<\/td>\n",
       "      <td>40.6<\/td>\n",
       "      <td>0<\/td>\n",
       "    <\/tr>\n",
       "    <tr>\n",
       "      <th>5<\/th>\n",
       "      <td>Colorado<\/td>\n",
       "      <td>7.9<\/td>\n",
       "      <td>204<\/td>\n",
       "      <td>78<\/td>\n",
       "      <td>38.7<\/td>\n",
       "      <td>0<\/td>\n",
       "    <\/tr>\n",
       "    <tr>\n",
       "      <th>6<\/th>\n",
       "      <td>Connecticut<\/td>\n",
       "      <td>3.3<\/td>\n",
       "      <td>110<\/td>\n",
       "      <td>77<\/td>\n",
       "      <td>11.1<\/td>\n",
       "      <td>1<\/td>\n",
       "    <\/tr>\n",
       "    <tr>\n",
       "      <th>7<\/th>\n",
       "      <td>Delaware<\/td>\n",
       "      <td>5.9<\/td>\n",
       "      <td>238<\/td>\n",
       "      <td>72<\/td>\n",
       "      <td>15.8<\/td>\n",
       "      <td>1<\/td>\n",
       "    <\/tr>\n",
       "    <tr>\n",
       "      <th>8<\/th>\n",
       "      <td>Florida<\/td>\n",
       "      <td>15.4<\/td>\n",
       "      <td>335<\/td>\n",
       "      <td>80<\/td>\n",
       "      <td>31.9<\/td>\n",
       "      <td>0<\/td>\n",
       "    <\/tr>\n",
       "    <tr>\n",
       "      <th>9<\/th>\n",
       "      <td>Georgia<\/td>\n",
       "      <td>17.4<\/td>\n",
       "      <td>211<\/td>\n",
       "      <td>60<\/td>\n",
       "      <td>25.8<\/td>\n",
       "      <td>0<\/td>\n",
       "    <\/tr>\n",
       "    <tr>\n",
       "      <th>10<\/th>\n",
       "      <td>Hawaii<\/td>\n",
       "      <td>5.3<\/td>\n",
       "      <td>46<\/td>\n",
       "      <td>83<\/td>\n",
       "      <td>20.2<\/td>\n",
       "      <td>1<\/td>\n",
       "    <\/tr>\n",
       "    <tr>\n",
       "      <th>11<\/th>\n",
       "      <td>Idaho<\/td>\n",
       "      <td>2.6<\/td>\n",
       "      <td>120<\/td>\n",
       "      <td>54<\/td>\n",
       "      <td>14.2<\/td>\n",
       "      <td>2<\/td>\n",
       "    <\/tr>\n",
       "    <tr>\n",
       "      <th>12<\/th>\n",
       "      <td>Illinois<\/td>\n",
       "      <td>10.4<\/td>\n",
       "      <td>249<\/td>\n",
       "      <td>83<\/td>\n",
       "      <td>24.0<\/td>\n",
       "      <td>0<\/td>\n",
       "    <\/tr>\n",
       "    <tr>\n",
       "      <th>13<\/th>\n",
       "      <td>Indiana<\/td>\n",
       "      <td>7.2<\/td>\n",
       "      <td>113<\/td>\n",
       "      <td>65<\/td>\n",
       "      <td>21.0<\/td>\n",
       "      <td>1<\/td>\n",
       "    <\/tr>\n",
       "    <tr>\n",
       "      <th>14<\/th>\n",
       "      <td>Iowa<\/td>\n",
       "      <td>2.2<\/td>\n",
       "      <td>56<\/td>\n",
       "      <td>57<\/td>\n",
       "      <td>11.3<\/td>\n",
       "      <td>2<\/td>\n",
       "    <\/tr>\n",
       "    <tr>\n",
       "      <th>15<\/th>\n",
       "      <td>Kansas<\/td>\n",
       "      <td>6.0<\/td>\n",
       "      <td>115<\/td>\n",
       "      <td>66<\/td>\n",
       "      <td>18.0<\/td>\n",
       "      <td>1<\/td>\n",
       "    <\/tr>\n",
       "    <tr>\n",
       "      <th>16<\/th>\n",
       "      <td>Kentucky<\/td>\n",
       "      <td>9.7<\/td>\n",
       "      <td>109<\/td>\n",
       "      <td>52<\/td>\n",
       "      <td>16.3<\/td>\n",
       "      <td>1<\/td>\n",
       "    <\/tr>\n",
       "    <tr>\n",
       "      <th>17<\/th>\n",
       "      <td>Louisiana<\/td>\n",
       "      <td>15.4<\/td>\n",
       "      <td>249<\/td>\n",
       "      <td>66<\/td>\n",
       "      <td>22.2<\/td>\n",
       "      <td>0<\/td>\n",
       "    <\/tr>\n",
       "    <tr>\n",
       "      <th>18<\/th>\n",
       "      <td>Maine<\/td>\n",
       "      <td>2.1<\/td>\n",
       "      <td>83<\/td>\n",
       "      <td>51<\/td>\n",
       "      <td>7.8<\/td>\n",
       "      <td>2<\/td>\n",
       "    <\/tr>\n",
       "    <tr>\n",
       "      <th>19<\/th>\n",
       "      <td>Maryland<\/td>\n",
       "      <td>11.3<\/td>\n",
       "      <td>300<\/td>\n",
       "      <td>67<\/td>\n",
       "      <td>27.8<\/td>\n",
       "      <td>0<\/td>\n",
       "    <\/tr>\n",
       "    <tr>\n",
       "      <th>20<\/th>\n",
       "      <td>Massachusetts<\/td>\n",
       "      <td>4.4<\/td>\n",
       "      <td>149<\/td>\n",
       "      <td>85<\/td>\n",
       "      <td>16.3<\/td>\n",
       "      <td>1<\/td>\n",
       "    <\/tr>\n",
       "    <tr>\n",
       "      <th>21<\/th>\n",
       "      <td>Michigan<\/td>\n",
       "      <td>12.1<\/td>\n",
       "      <td>255<\/td>\n",
       "      <td>74<\/td>\n",
       "      <td>35.1<\/td>\n",
       "      <td>0<\/td>\n",
       "    <\/tr>\n",
       "    <tr>\n",
       "      <th>22<\/th>\n",
       "      <td>Minnesota<\/td>\n",
       "      <td>2.7<\/td>\n",
       "      <td>72<\/td>\n",
       "      <td>66<\/td>\n",
       "      <td>14.9<\/td>\n",
       "      <td>1<\/td>\n",
       "    <\/tr>\n",
       "    <tr>\n",
       "      <th>23<\/th>\n",
       "      <td>Mississippi<\/td>\n",
       "      <td>16.1<\/td>\n",
       "      <td>259<\/td>\n",
       "      <td>44<\/td>\n",
       "      <td>17.1<\/td>\n",
       "      <td>0<\/td>\n",
       "    <\/tr>\n",
       "    <tr>\n",
       "      <th>24<\/th>\n",
       "      <td>Missouri<\/td>\n",
       "      <td>9.0<\/td>\n",
       "      <td>178<\/td>\n",
       "      <td>70<\/td>\n",
       "      <td>28.2<\/td>\n",
       "      <td>0<\/td>\n",
       "    <\/tr>\n",
       "    <tr>\n",
       "      <th>25<\/th>\n",
       "      <td>Montana<\/td>\n",
       "      <td>6.0<\/td>\n",
       "      <td>109<\/td>\n",
       "      <td>53<\/td>\n",
       "      <td>16.4<\/td>\n",
       "      <td>2<\/td>\n",
       "    <\/tr>\n",
       "    <tr>\n",
       "      <th>26<\/th>\n",
       "      <td>Nebraska<\/td>\n",
       "      <td>4.3<\/td>\n",
       "      <td>102<\/td>\n",
       "      <td>62<\/td>\n",
       "      <td>16.5<\/td>\n",
       "      <td>2<\/td>\n",
       "    <\/tr>\n",
       "    <tr>\n",
       "      <th>27<\/th>\n",
       "      <td>Nevada<\/td>\n",
       "      <td>12.2<\/td>\n",
       "      <td>252<\/td>\n",
       "      <td>81<\/td>\n",
       "      <td>46.0<\/td>\n",
       "      <td>0<\/td>\n",
       "    <\/tr>\n",
       "    <tr>\n",
       "      <th>28<\/th>\n",
       "      <td>New Hampshire<\/td>\n",
       "      <td>2.1<\/td>\n",
       "      <td>57<\/td>\n",
       "      <td>56<\/td>\n",
       "      <td>9.5<\/td>\n",
       "      <td>2<\/td>\n",
       "    <\/tr>\n",
       "    <tr>\n",
       "      <th>29<\/th>\n",
       "      <td>New Jersey<\/td>\n",
       "      <td>7.4<\/td>\n",
       "      <td>159<\/td>\n",
       "      <td>89<\/td>\n",
       "      <td>18.8<\/td>\n",
       "      <td>1<\/td>\n",
       "    <\/tr>\n",
       "    <tr>\n",
       "      <th>30<\/th>\n",
       "      <td>New Mexico<\/td>\n",
       "      <td>11.4<\/td>\n",
       "      <td>285<\/td>\n",
       "      <td>70<\/td>\n",
       "      <td>32.1<\/td>\n",
       "      <td>0<\/td>\n",
       "    <\/tr>\n",
       "    <tr>\n",
       "      <th>31<\/th>\n",
       "      <td>New York<\/td>\n",
       "      <td>11.1<\/td>\n",
       "      <td>254<\/td>\n",
       "      <td>86<\/td>\n",
       "      <td>26.1<\/td>\n",
       "      <td>0<\/td>\n",
       "    <\/tr>\n",
       "    <tr>\n",
       "      <th>32<\/th>\n",
       "      <td>North Carolina<\/td>\n",
       "      <td>13.0<\/td>\n",
       "      <td>337<\/td>\n",
       "      <td>45<\/td>\n",
       "      <td>16.1<\/td>\n",
       "      <td>0<\/td>\n",
       "    <\/tr>\n",
       "    <tr>\n",
       "      <th>33<\/th>\n",
       "      <td>North Dakota<\/td>\n",
       "      <td>0.8<\/td>\n",
       "      <td>45<\/td>\n",
       "      <td>44<\/td>\n",
       "      <td>7.3<\/td>\n",
       "      <td>2<\/td>\n",
       "    <\/tr>\n",
       "    <tr>\n",
       "      <th>34<\/th>\n",
       "      <td>Ohio<\/td>\n",
       "      <td>7.3<\/td>\n",
       "      <td>120<\/td>\n",
       "      <td>75<\/td>\n",
       "      <td>21.4<\/td>\n",
       "      <td>1<\/td>\n",
       "    <\/tr>\n",
       "    <tr>\n",
       "      <th>35<\/th>\n",
       "      <td>Oklahoma<\/td>\n",
       "      <td>6.6<\/td>\n",
       "      <td>151<\/td>\n",
       "      <td>68<\/td>\n",
       "      <td>20.0<\/td>\n",
       "      <td>1<\/td>\n",
       "    <\/tr>\n",
       "    <tr>\n",
       "      <th>36<\/th>\n",
       "      <td>Oregon<\/td>\n",
       "      <td>4.9<\/td>\n",
       "      <td>159<\/td>\n",
       "      <td>67<\/td>\n",
       "      <td>29.3<\/td>\n",
       "      <td>1<\/td>\n",
       "    <\/tr>\n",
       "    <tr>\n",
       "      <th>37<\/th>\n",
       "      <td>Pennsylvania<\/td>\n",
       "      <td>6.3<\/td>\n",
       "      <td>106<\/td>\n",
       "      <td>72<\/td>\n",
       "      <td>14.9<\/td>\n",
       "      <td>1<\/td>\n",
       "    <\/tr>\n",
       "    <tr>\n",
       "      <th>38<\/th>\n",
       "      <td>Rhode Island<\/td>\n",
       "      <td>3.4<\/td>\n",
       "      <td>174<\/td>\n",
       "      <td>87<\/td>\n",
       "      <td>8.3<\/td>\n",
       "      <td>1<\/td>\n",
       "    <\/tr>\n",
       "    <tr>\n",
       "      <th>39<\/th>\n",
       "      <td>South Carolina<\/td>\n",
       "      <td>14.4<\/td>\n",
       "      <td>279<\/td>\n",
       "      <td>48<\/td>\n",
       "      <td>22.5<\/td>\n",
       "      <td>0<\/td>\n",
       "    <\/tr>\n",
       "    <tr>\n",
       "      <th>40<\/th>\n",
       "      <td>South Dakota<\/td>\n",
       "      <td>3.8<\/td>\n",
       "      <td>86<\/td>\n",
       "      <td>45<\/td>\n",
       "      <td>12.8<\/td>\n",
       "      <td>2<\/td>\n",
       "    <\/tr>\n",
       "    <tr>\n",
       "      <th>41<\/th>\n",
       "      <td>Tennessee<\/td>\n",
       "      <td>13.2<\/td>\n",
       "      <td>188<\/td>\n",
       "      <td>59<\/td>\n",
       "      <td>26.9<\/td>\n",
       "      <td>0<\/td>\n",
       "    <\/tr>\n",
       "    <tr>\n",
       "      <th>42<\/th>\n",
       "      <td>Texas<\/td>\n",
       "      <td>12.7<\/td>\n",
       "      <td>201<\/td>\n",
       "      <td>80<\/td>\n",
       "      <td>25.5<\/td>\n",
       "      <td>0<\/td>\n",
       "    <\/tr>\n",
       "    <tr>\n",
       "      <th>43<\/th>\n",
       "      <td>Utah<\/td>\n",
       "      <td>3.2<\/td>\n",
       "      <td>120<\/td>\n",
       "      <td>80<\/td>\n",
       "      <td>22.9<\/td>\n",
       "      <td>1<\/td>\n",
       "    <\/tr>\n",
       "    <tr>\n",
       "      <th>44<\/th>\n",
       "      <td>Vermont<\/td>\n",
       "      <td>2.2<\/td>\n",
       "      <td>48<\/td>\n",
       "      <td>32<\/td>\n",
       "      <td>11.2<\/td>\n",
       "      <td>2<\/td>\n",
       "    <\/tr>\n",
       "    <tr>\n",
       "      <th>45<\/th>\n",
       "      <td>Virginia<\/td>\n",
       "      <td>8.5<\/td>\n",
       "      <td>156<\/td>\n",
       "      <td>63<\/td>\n",
       "      <td>20.7<\/td>\n",
       "      <td>1<\/td>\n",
       "    <\/tr>\n",
       "    <tr>\n",
       "      <th>46<\/th>\n",
       "      <td>Washington<\/td>\n",
       "      <td>4.0<\/td>\n",
       "      <td>145<\/td>\n",
       "      <td>73<\/td>\n",
       "      <td>26.2<\/td>\n",
       "      <td>1<\/td>\n",
       "    <\/tr>\n",
       "    <tr>\n",
       "      <th>47<\/th>\n",
       "      <td>West Virginia<\/td>\n",
       "      <td>5.7<\/td>\n",
       "      <td>81<\/td>\n",
       "      <td>39<\/td>\n",
       "      <td>9.3<\/td>\n",
       "      <td>2<\/td>\n",
       "    <\/tr>\n",
       "    <tr>\n",
       "      <th>48<\/th>\n",
       "      <td>Wisconsin<\/td>\n",
       "      <td>2.6<\/td>\n",
       "      <td>53<\/td>\n",
       "      <td>66<\/td>\n",
       "      <td>10.8<\/td>\n",
       "      <td>1<\/td>\n",
       "    <\/tr>\n",
       "    <tr>\n",
       "      <th>49<\/th>\n",
       "      <td>Wyoming<\/td>\n",
       "      <td>6.8<\/td>\n",
       "      <td>161<\/td>\n",
       "      <td>60<\/td>\n",
       "      <td>15.6<\/td>\n",
       "      <td>1<\/td>\n",
       "    <\/tr>\n",
       "  <\/tbody>\n",
       "<\/table>\n",
       "<\/div>"
      ]
     },
     "metadata":{},
     "output_type":"display_data"
    }
   ],
   "metadata":{
    "datalore":{
     "node_id":"UezZ7OcS7iR5ljLqHRdggK",
     "type":"CODE",
     "hide_input_from_viewers":true,
     "hide_output_from_viewers":true
    }
   }
  },
  {
   "cell_type":"code",
   "source":[
    "crime = crime_trimmed.iloc[:, [5,0,1,2,3,4]]\n",
    "crime.head()"
   ],
   "execution_count":62,
   "outputs":[
    {
     "data":{
      "text\/html":[
       "<div>\n",
       "<style scoped>\n",
       "    .dataframe tbody tr th:only-of-type {\n",
       "        vertical-align: middle;\n",
       "    }\n",
       "\n",
       "    .dataframe tbody tr th {\n",
       "        vertical-align: top;\n",
       "    }\n",
       "\n",
       "    .dataframe thead th {\n",
       "        text-align: right;\n",
       "    }\n",
       "<\/style>\n",
       "<table border=\"1\" class=\"dataframe\">\n",
       "  <thead>\n",
       "    <tr style=\"text-align: right;\">\n",
       "      <th><\/th>\n",
       "      <th>clust<\/th>\n",
       "      <th>City<\/th>\n",
       "      <th>Murder<\/th>\n",
       "      <th>Assault<\/th>\n",
       "      <th>UrbanPop<\/th>\n",
       "      <th>Rape<\/th>\n",
       "    <\/tr>\n",
       "  <\/thead>\n",
       "  <tbody>\n",
       "    <tr>\n",
       "      <th>0<\/th>\n",
       "      <td>AgglomerativeClustering(affinity='euclidean', ...<\/td>\n",
       "      <td>Alabama<\/td>\n",
       "      <td>13.2<\/td>\n",
       "      <td>236<\/td>\n",
       "      <td>58<\/td>\n",
       "      <td>21.2<\/td>\n",
       "    <\/tr>\n",
       "    <tr>\n",
       "      <th>2<\/th>\n",
       "      <td>AgglomerativeClustering(affinity='euclidean', ...<\/td>\n",
       "      <td>Arizona<\/td>\n",
       "      <td>8.1<\/td>\n",
       "      <td>294<\/td>\n",
       "      <td>80<\/td>\n",
       "      <td>31.0<\/td>\n",
       "    <\/tr>\n",
       "    <tr>\n",
       "      <th>3<\/th>\n",
       "      <td>AgglomerativeClustering(affinity='euclidean', ...<\/td>\n",
       "      <td>Arkansas<\/td>\n",
       "      <td>8.8<\/td>\n",
       "      <td>190<\/td>\n",
       "      <td>50<\/td>\n",
       "      <td>19.5<\/td>\n",
       "    <\/tr>\n",
       "    <tr>\n",
       "      <th>4<\/th>\n",
       "      <td>AgglomerativeClustering(affinity='euclidean', ...<\/td>\n",
       "      <td>California<\/td>\n",
       "      <td>9.0<\/td>\n",
       "      <td>276<\/td>\n",
       "      <td>91<\/td>\n",
       "      <td>40.6<\/td>\n",
       "    <\/tr>\n",
       "    <tr>\n",
       "      <th>5<\/th>\n",
       "      <td>AgglomerativeClustering(affinity='euclidean', ...<\/td>\n",
       "      <td>Colorado<\/td>\n",
       "      <td>7.9<\/td>\n",
       "      <td>204<\/td>\n",
       "      <td>78<\/td>\n",
       "      <td>38.7<\/td>\n",
       "    <\/tr>\n",
       "  <\/tbody>\n",
       "<\/table>\n",
       "<\/div>"
      ]
     },
     "metadata":{},
     "output_type":"display_data"
    }
   ],
   "metadata":{
    "datalore":{
     "node_id":"zWkdpZURrbSl8FEMANkS3q",
     "type":"CODE",
     "hide_input_from_viewers":true,
     "hide_output_from_viewers":true
    }
   }
  },
  {
   "cell_type":"code",
   "source":[
    "crime.iloc[:,2:].groupby(crime_trimmed.clust).mean()"
   ],
   "execution_count":60,
   "outputs":[
    {
     "data":{
      "text\/html":[
       "<div>\n",
       "<style scoped>\n",
       "    .dataframe tbody tr th:only-of-type {\n",
       "        vertical-align: middle;\n",
       "    }\n",
       "\n",
       "    .dataframe tbody tr th {\n",
       "        vertical-align: top;\n",
       "    }\n",
       "\n",
       "    .dataframe thead th {\n",
       "        text-align: right;\n",
       "    }\n",
       "<\/style>\n",
       "<table border=\"1\" class=\"dataframe\">\n",
       "  <thead>\n",
       "    <tr style=\"text-align: right;\">\n",
       "      <th><\/th>\n",
       "      <th>Murder<\/th>\n",
       "      <th>Assault<\/th>\n",
       "      <th>UrbanPop<\/th>\n",
       "      <th>Rape<\/th>\n",
       "    <\/tr>\n",
       "    <tr>\n",
       "      <th>clust<\/th>\n",
       "      <th><\/th>\n",
       "      <th><\/th>\n",
       "      <th><\/th>\n",
       "      <th><\/th>\n",
       "    <\/tr>\n",
       "  <\/thead>\n",
       "  <tbody>\n",
       "    <tr>\n",
       "      <th>AgglomerativeClustering(affinity='euclidean', linkage='complete', n_clusters=3)<\/th>\n",
       "      <td>7.65<\/td>\n",
       "      <td>167.145833<\/td>\n",
       "      <td>65.583333<\/td>\n",
       "      <td>20.23125<\/td>\n",
       "    <\/tr>\n",
       "  <\/tbody>\n",
       "<\/table>\n",
       "<\/div>"
      ]
     },
     "metadata":{},
     "output_type":"display_data"
    }
   ],
   "metadata":{
    "datalore":{
     "node_id":"t7H5YdPxGrRJBCsCfJZQR8",
     "type":"CODE",
     "hide_input_from_viewers":true,
     "hide_output_from_viewers":true
    }
   }
  }
 ],
 "metadata":{
  "kernelspec":{
   "display_name":"Python",
   "language":"python",
   "name":"python"
  },
  "datalore":{
   "computation_mode":"JUPYTER",
   "package_manager":"pip",
   "base_environment":"default",
   "packages":[],
   "report_row_ids":[],
   "version":3
  }
 },
 "nbformat":4,
 "nbformat_minor":4
}